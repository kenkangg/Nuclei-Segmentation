{
 "cells": [
  {
   "cell_type": "markdown",
   "metadata": {},
   "source": [
    "# Image Preprocessing\n",
    "The data being used in this project comes from the [Kaggle Data Science Bowl 2018](https://www.kaggle.com/c/data-science-bowl-2018). The goal of this competition is to locate various nuclei within an image and detect each instance of it down to the exact pixel. The dataset consists of RGB images of microscope images. Each image comes with a prelabeled masks for each nuclei in an image. \n",
    "\n",
    "The purpose of this notebook is to preprocess the images in such a way that I can create a training and label dataset from this raw data. In order to do this, I resized each image to a uniform size of (256,256,3), while keeping track of it's original dimensions for later reference. For the labels, they are given as a binary mask, one for each instance of a nuclei. Therefore to make prediction simpler, I combined these images into a single mask. While this will fail to detect **instances**, we can use other traditional computer vision methods to split the predicted mask.\n",
    "\n",
    "Once the images have been formatted, they will be pickled, or simply stored, for quick reading when user later on."
   ]
  },
  {
   "cell_type": "code",
   "execution_count": 1,
   "metadata": {
    "collapsed": true
   },
   "outputs": [],
   "source": [
    "%load_ext memory_profiler"
   ]
  },
  {
   "cell_type": "code",
   "execution_count": 2,
   "metadata": {},
   "outputs": [
    {
     "name": "stdout",
     "output_type": "stream",
     "text": [
      "peak memory: 44.36 MiB, increment: 0.21 MiB\n"
     ]
    }
   ],
   "source": [
    "%memit"
   ]
  },
  {
   "cell_type": "code",
   "execution_count": 3,
   "metadata": {
    "collapsed": true
   },
   "outputs": [],
   "source": [
    "from os import listdir, walk\n",
    "import os\n",
    "import matplotlib.pyplot as plt\n",
    "import numpy as np\n",
    "from imageio import imread\n",
    "import pickle"
   ]
  },
  {
   "cell_type": "markdown",
   "metadata": {},
   "source": [
    "## Training Images and Labels"
   ]
  },
  {
   "cell_type": "code",
   "execution_count": 1,
   "metadata": {
    "collapsed": true
   },
   "outputs": [],
   "source": [
    "def read_images(path):\n",
    "    \"\"\" Read Images and Masks from Path\n",
    "\n",
    "        Arguments:\n",
    "            path\n",
    "        \n",
    "        Return:\n",
    "            dictionary of image, indexed by image name\n",
    "    \"\"\"\n",
    "    \n",
    "    images = {}\n",
    "    \n",
    "    count = 0\n",
    "\n",
    "    for root,dirs,files in os.walk(path):\n",
    "        \n",
    "        if 'images' in dirs:\n",
    "            for img_name in listdir(root + '/images'):\n",
    "                \n",
    "                if count % 50 == 0:\n",
    "                    print(\"Read {} image/mask pairs\".format(count))\n",
    "                count += 1\n",
    "                \n",
    "                # Read Images\n",
    "                img_path = root + '/images/%s' % img_name\n",
    "                if img_path == '':\n",
    "                    raise Exception(\"No Images found in directory\")   \n",
    "                img = imread(img_path)[:,:,:3]\n",
    "                images[img_name] = img\n",
    "\n",
    "    return images\n"
   ]
  },
  {
   "cell_type": "code",
   "execution_count": 5,
   "metadata": {
    "collapsed": true
   },
   "outputs": [],
   "source": [
    "images = read_images(\"./train_data\")\n",
    "pickle.dump(images, open('raw_images.p', 'wb'))"
   ]
  },
  {
   "cell_type": "code",
   "execution_count": 2,
   "metadata": {
    "scrolled": true
   },
   "outputs": [
    {
     "name": "stdout",
     "output_type": "stream",
     "text": [
      "Read 0 image/mask pairs\n",
      "Read 50 image/mask pairs\n",
      "Read 100 image/mask pairs\n",
      "Read 150 image/mask pairs\n",
      "Read 200 image/mask pairs\n",
      "Read 250 image/mask pairs\n",
      "Read 300 image/mask pairs\n",
      "Read 350 image/mask pairs\n",
      "Read 400 image/mask pairs\n",
      "Read 450 image/mask pairs\n",
      "Read 500 image/mask pairs\n",
      "Read 550 image/mask pairs\n",
      "Read 600 image/mask pairs\n",
      "Read 650 image/mask pairs\n"
     ]
    }
   ],
   "source": [
    "def read_masks(path):\n",
    "    \"\"\" Read Images and Masks from Path\n",
    "\n",
    "        Arguments:\n",
    "            path\n",
    "        \n",
    "        Return:\n",
    "            dictionary of masks, indexed by corresponding image name\n",
    "    \n",
    "    \n",
    "    \"\"\"\n",
    "\n",
    "    masks = {}\n",
    "    \n",
    "    count = 0\n",
    "\n",
    "    for root,dirs,files in os.walk(path):\n",
    "        \n",
    "        if 'images' in dirs:\n",
    "            for img_name in listdir(root + '/images'):\n",
    "                \n",
    "                if count % 50 == 0:\n",
    "                    print(\"Read {} image/mask pairs\".format(count))\n",
    "                count += 1\n",
    "\n",
    "                # Read Masks\n",
    "                submasks = []\n",
    "                for mask_name in listdir(root + '/masks'):\n",
    "                    mask_path = root + '/masks/{}'.format(mask_name)\n",
    "                    if mask_path == '':\n",
    "                        raise Exception(\"No Masks found in directory\")  \n",
    "                    submasks.append(imread(mask_path))\n",
    "                masks[img_name] = submasks\n",
    "    return masks\n",
    "\n",
    "masks = read_masks(\"./train_data\")\n",
    "pickle.dump(masks, open('raw_masks.p', 'wb'))"
   ]
  },
  {
   "cell_type": "markdown",
   "metadata": {},
   "source": [
    "## Test Images\n",
    "These images are separate from training dataset, which have labeled masks associated with them. This dataset is purely for submission purposes."
   ]
  },
  {
   "cell_type": "code",
   "execution_count": 9,
   "metadata": {
    "collapsed": true
   },
   "outputs": [],
   "source": [
    "def read_test_images(path):\n",
    "    \"\"\" Read Images and Masks from Path\n",
    "\n",
    "        Arguments:\n",
    "            path\n",
    "        \n",
    "        Return:\n",
    "            dictionary of image names, each containing dictionary of {image,masks}.\n",
    "    \n",
    "    \n",
    "    \"\"\"\n",
    "    \n",
    "    images = {}\n",
    "    sizes = []\n",
    "    img_names = []\n",
    "    \n",
    "    count = 0\n",
    "\n",
    "    for root,dirs,files in os.walk(path):\n",
    "        \n",
    "        if 'images' in dirs:\n",
    "            for img_name in listdir(root + '/images'):\n",
    "                \n",
    "                if count % 50 == 0:\n",
    "                    print(\"Read {} image/mask pairs\".format(count))\n",
    "                count += 1\n",
    "                \n",
    "                # Read Images\n",
    "                img_path = root + '/images/%s' % img_name\n",
    "                if img_path == '':\n",
    "                    raise Exception(\"No Images found in directory\")   \n",
    "                img = imread(img_path)\n",
    "                if img.shape[-1] != 3:\n",
    "                    try:\n",
    "                        img = img[:,:,:3]\n",
    "                    except IndexError:\n",
    "                        img = np.expand_dims(img,axis=-1)\n",
    "                        img = np.repeat(img,3, axis=-1)\n",
    "                images[img_name] = img\n",
    "                sizes.append(img.shape)\n",
    "                img_names.append(img_name)\n",
    "\n",
    "    return images, sizes, img_names\n"
   ]
  },
  {
   "cell_type": "code",
   "execution_count": 13,
   "metadata": {},
   "outputs": [
    {
     "name": "stdout",
     "output_type": "stream",
     "text": [
      "Read 0 image/mask pairs\n",
      "Read 50 image/mask pairs\n",
      "Read 100 image/mask pairs\n",
      "Read 150 image/mask pairs\n",
      "Read 200 image/mask pairs\n",
      "Read 250 image/mask pairs\n",
      "Read 300 image/mask pairs\n",
      "Read 350 image/mask pairs\n",
      "Read 400 image/mask pairs\n",
      "Read 450 image/mask pairs\n",
      "Read 500 image/mask pairs\n",
      "Read 550 image/mask pairs\n",
      "Read 600 image/mask pairs\n",
      "Read 650 image/mask pairs\n",
      "Read 700 image/mask pairs\n",
      "Read 750 image/mask pairs\n",
      "Read 800 image/mask pairs\n",
      "Read 850 image/mask pairs\n",
      "Read 900 image/mask pairs\n",
      "Read 950 image/mask pairs\n",
      "Read 1000 image/mask pairs\n",
      "Read 1050 image/mask pairs\n",
      "Read 1100 image/mask pairs\n",
      "Read 1150 image/mask pairs\n",
      "Read 1200 image/mask pairs\n",
      "Read 1250 image/mask pairs\n",
      "Read 1300 image/mask pairs\n",
      "Read 1350 image/mask pairs\n",
      "Read 1400 image/mask pairs\n",
      "Read 1450 image/mask pairs\n",
      "Read 1500 image/mask pairs\n",
      "Read 1550 image/mask pairs\n",
      "Read 1600 image/mask pairs\n",
      "Read 1650 image/mask pairs\n",
      "Read 1700 image/mask pairs\n",
      "Read 1750 image/mask pairs\n",
      "Read 1800 image/mask pairs\n",
      "Read 1850 image/mask pairs\n",
      "Read 1900 image/mask pairs\n",
      "Read 1950 image/mask pairs\n",
      "Read 2000 image/mask pairs\n",
      "Read 2050 image/mask pairs\n",
      "Read 2100 image/mask pairs\n",
      "Read 2150 image/mask pairs\n",
      "Read 2200 image/mask pairs\n",
      "Read 2250 image/mask pairs\n",
      "Read 2300 image/mask pairs\n",
      "Read 2350 image/mask pairs\n",
      "Read 2400 image/mask pairs\n",
      "Read 2450 image/mask pairs\n",
      "Read 2500 image/mask pairs\n",
      "Read 2550 image/mask pairs\n",
      "Read 2600 image/mask pairs\n",
      "Read 2650 image/mask pairs\n",
      "Read 2700 image/mask pairs\n",
      "Read 2750 image/mask pairs\n",
      "Read 2800 image/mask pairs\n",
      "Read 2850 image/mask pairs\n",
      "Read 2900 image/mask pairs\n",
      "Read 2950 image/mask pairs\n",
      "Read 3000 image/mask pairs\n"
     ]
    }
   ],
   "source": [
    "test_images, test_sizes, img_names = read_test_images(\"../stage_2\")\n",
    "pickle.dump(test_images, open('raw_test_images.p', 'wb'))\n",
    "pickle.dump(test_sizes, open('test_sizes.p', 'wb'))\n",
    "pickle.dump(img_names, open('test_img_names.p', 'wb'))"
   ]
  },
  {
   "cell_type": "code",
   "execution_count": 8,
   "metadata": {
    "collapsed": true
   },
   "outputs": [],
   "source": [
    "test_images, test_sizes, img_names = read_test_images(\"./test_data_2\")"
   ]
  },
  {
   "cell_type": "code",
   "execution_count": 16,
   "metadata": {
    "collapsed": true
   },
   "outputs": [],
   "source": [
    "pickle.dump(test_images, open('../raw_test_images.p', 'wb'))\n",
    "pickle.dump(test_sizes, open('../test_sizes.p', 'wb'))\n",
    "pickle.dump(img_names, open('../test_img_names.p', 'wb'))"
   ]
  },
  {
   "cell_type": "code",
   "execution_count": 15,
   "metadata": {},
   "outputs": [
    {
     "data": {
      "text/plain": [
       "<matplotlib.image.AxesImage at 0x7f04f0029630>"
      ]
     },
     "execution_count": 15,
     "metadata": {},
     "output_type": "execute_result"
    },
    {
     "data": {
      "image/png": "[encoded data removed]",
      "text/plain": [
       "<Figure size 432x288 with 1 Axes>"
      ]
     },
     "metadata": {},
     "output_type": "display_data"
    }
   ],
   "source": [
    "plt.imshow(test_images[list(test_images.keys())[0]])"
   ]
  },
  {
   "cell_type": "code",
   "execution_count": 12,
   "metadata": {},
   "outputs": [
    {
     "name": "stdout",
     "output_type": "stream",
     "text": [
      "{}\n"
     ]
    }
   ],
   "source": [
    "print(test_images)"
   ]
  },
  {
   "cell_type": "code",
   "execution_count": null,
   "metadata": {
    "collapsed": true
   },
   "outputs": [],
   "source": []
  }
 ],
 "metadata": {
  "kernelspec": {
   "display_name": "Python [conda env:anaconda3]",
   "language": "python",
   "name": "conda-env-anaconda3-py"
  },
  "language_info": {
   "codemirror_mode": {
    "name": "ipython",
    "version": 3
   },
   "file_extension": ".py",
   "mimetype": "text/x-python",
   "name": "python",
   "nbconvert_exporter": "python",
   "pygments_lexer": "ipython3",
   "version": "3.6.3"
  }
 },
 "nbformat": 4,
 "nbformat_minor": 2
}
