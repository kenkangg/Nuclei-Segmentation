{
 "cells": [
  {
   "cell_type": "code",
   "execution_count": 1,
   "metadata": {},
   "outputs": [
    {
     "name": "stderr",
     "output_type": "stream",
     "text": [
      "Using TensorFlow backend.\n"
     ]
    }
   ],
   "source": [
    "from keras import backend as K\n",
    "cfg = K.tf.ConfigProto()\n",
    "cfg.gpu_options.allow_growth = True\n",
    "K.set_session(K.tf.Session(config=cfg))\n"
   ]
  },
  {
   "cell_type": "code",
   "execution_count": 54,
   "metadata": {
    "colab": {
     "autoexec": {
      "startup": false,
      "wait_interval": 0
     },
     "base_uri": "https://localhost:8080/",
     "height": 34,
     "output_extras": [
      {
       "item_id": 1
      }
     ]
    },
    "colab_type": "code",
    "collapsed": true,
    "executionInfo": {
     "elapsed": 7811,
     "status": "ok",
     "timestamp": 1522481659316,
     "user": {
      "displayName": "Kenny Kang",
      "photoUrl": "https://lh3.googleusercontent.com/a/default-user=s128",
      "userId": "100936701342634082666"
     },
     "user_tz": 420
    },
    "id": "KdobJHZdeVY4",
    "outputId": "a5d6dc15-925a-4c0a-fa72-8dd408ab9e67"
   },
   "outputs": [],
   "source": [
    "import numpy as np\n",
    "from scipy.misc import imresize\n",
    "import pickle\n",
    "import imageio\n",
    "\n",
    "# Dependencies for Model\n",
    "import keras\n",
    "from keras.layers import Conv2DTranspose, Conv2D, MaxPooling2D, concatenate\n",
    "from keras.models import Model\n",
    "\n",
    "from keras.layers import Input, Dense\n",
    "from keras.models import Model\n",
    "from keras.layers import Activation, Dense, BatchNormalization, Reshape\n",
    "from keras import losses, optimizers\n",
    "import tensorflow as tf\n",
    "\n",
    "import matplotlib.pyplot as plt\n",
    "\n",
    "import keras.backend as K\n",
    "\n",
    "from skimage.measure import label\n",
    "\n",
    "from keras.preprocessing import image\n",
    "from tensorflow import set_random_seed\n",
    "import pandas as pd\n",
    "\n",
    "import numpy as np\n",
    "import matplotlib.pyplot as plt\n",
    "from scipy import ndimage as ndi\n",
    "\n",
    "from skimage.morphology import watershed\n",
    "from skimage.feature import peak_local_max\n"
   ]
  },
  {
   "cell_type": "code",
   "execution_count": 55,
   "metadata": {
    "collapsed": true
   },
   "outputs": [],
   "source": [
    "sess = tf.Session()\n",
    "K.set_session(sess)\n",
    "\n",
    "set_random_seed(0)"
   ]
  },
  {
   "cell_type": "code",
   "execution_count": 56,
   "metadata": {
    "colab": {
     "autoexec": {
      "startup": false,
      "wait_interval": 0
     }
    },
    "colab_type": "code",
    "collapsed": true,
    "id": "8pV5iuflqJq-"
   },
   "outputs": [],
   "source": [
    "DATA_SPLIT = 650\n",
    "IMAGE_MEAN = 0.17166166804067506"
   ]
  },
  {
   "cell_type": "code",
   "execution_count": 189,
   "metadata": {
    "collapsed": true
   },
   "outputs": [],
   "source": [
    "images = pickle.load(open('../baseline_data/train_X_baseline.p', 'rb'))\n",
    "labels = pickle.load(open('../baseline_data/train_Y_baseline.p', 'rb'))"
   ]
  },
  {
   "cell_type": "code",
   "execution_count": 190,
   "metadata": {
    "collapsed": true
   },
   "outputs": [],
   "source": [
    "labels = np.expand_dims(labels, axis=-1)"
   ]
  },
  {
   "cell_type": "code",
   "execution_count": 191,
   "metadata": {
    "colab": {
     "autoexec": {
      "startup": false,
      "wait_interval": 0
     },
     "base_uri": "https://localhost:8080/",
     "height": 136,
     "output_extras": [
      {
       "item_id": 10
      }
     ]
    },
    "colab_type": "code",
    "collapsed": true,
    "executionInfo": {
     "elapsed": 8258,
     "status": "ok",
     "timestamp": 1521774303419,
     "user": {
      "displayName": "Kenny Kang",
      "photoUrl": "https://lh3.googleusercontent.com/a/default-user=s128",
      "userId": "100936701342634082666"
     },
     "user_tz": 420
    },
    "id": "2-kTCqTeHk2U",
    "outputId": "76c85aaa-f72d-47e0-96c4-2dcca28a5446"
   },
   "outputs": [],
   "source": [
    "train_X = images[:DATA_SPLIT,:,:,:] - IMAGE_MEAN\n",
    "train_Y = labels[:DATA_SPLIT,:,:,:] #Reduced range to [0,1]\n",
    "\n",
    "valid_X = images[DATA_SPLIT:,:,:,:] - IMAGE_MEAN\n",
    "valid_Y = labels[DATA_SPLIT:,:,:,:] #Reduced range to [0,1]"
   ]
  },
  {
   "cell_type": "code",
   "execution_count": 192,
   "metadata": {},
   "outputs": [
    {
     "name": "stdout",
     "output_type": "stream",
     "text": [
      "1.0\n"
     ]
    }
   ],
   "source": [
    "print(np.max(valid_Y))"
   ]
  },
  {
   "cell_type": "markdown",
   "metadata": {
    "colab_type": "text",
    "id": "DEuZQCR0qpHB"
   },
   "source": [
    "## U-Net"
   ]
  },
  {
   "cell_type": "code",
   "execution_count": 193,
   "metadata": {
    "colab": {
     "autoexec": {
      "startup": false,
      "wait_interval": 0
     }
    },
    "colab_type": "code",
    "collapsed": true,
    "id": "842RICt_ABpO"
   },
   "outputs": [],
   "source": [
    "# Custom Loss Funciton\n",
    "\n",
    "smooth = 1\n",
    "\n",
    "def dice_coef(y_true, y_pred):\n",
    "    y_true_f = K.flatten(y_true)\n",
    "    y_pred_f = K.flatten(y_pred)\n",
    "    intersection = K.sum(y_true_f * y_pred_f)\n",
    "    return (2. * intersection + smooth) / (K.sum(y_true_f) + K.sum(y_pred_f) + smooth) \n",
    "\n",
    "\n",
    "def dice_coef_loss(y_true, y_pred):\n",
    "    return -dice_coef(y_true, y_pred)\n"
   ]
  },
  {
   "cell_type": "code",
   "execution_count": 194,
   "metadata": {
    "colab": {
     "autoexec": {
      "startup": false,
      "wait_interval": 0
     }
    },
    "colab_type": "code",
    "collapsed": true,
    "id": "8hmwplrD19qm"
   },
   "outputs": [],
   "source": [
    "def weighted_binary_crossentropy_loss(y_true, y_pred):\n",
    "    dice = -dice_coef(y_true, y_pred)\n",
    "    return dice\n",
    "  \n",
    "def weighted_dice_coef(y_true, y_pred):\n",
    "    return dice_coef(y_true[:,:,:,0], y_pred[:,:,:,0])\n",
    "  \n",
    "def mean_iou(y_true, y_pred):\n",
    "    prec = []\n",
    "    for t in np.arange(0.5, 1.0, 0.05):\n",
    "        y_pred_ = tf.to_int32(y_pred > t)\n",
    "        score, up_opt = tf.metrics.mean_iou(y_true, y_pred_, 2)\n",
    "        K.get_session().run(tf.local_variables_initializer())\n",
    "        with tf.control_dependencies([up_opt]):\n",
    "            score = tf.identity(score)\n",
    "        prec.append(score)\n",
    "    return K.mean(K.stack(prec), axis=0)\n"
   ]
  },
  {
   "cell_type": "code",
   "execution_count": 195,
   "metadata": {
    "colab": {
     "autoexec": {
      "startup": false,
      "wait_interval": 0
     }
    },
    "colab_type": "code",
    "collapsed": true,
    "id": "LSwtTKxP6qAw"
   },
   "outputs": [],
   "source": [
    "# U-Net\n",
    "\n",
    "inputs = Input((256, 256, 3))\n",
    "conv1 = Conv2D(64, (3, 3), activation='relu', padding='same')(inputs)\n",
    "conv1 = Conv2D(64, (3, 3), activation='relu', padding='same')(conv1)\n",
    "pool1 = MaxPooling2D(pool_size=(2, 2))(conv1)\n",
    "\n",
    "conv2 = Conv2D(128, (3, 3), activation='relu', padding='same')(pool1)\n",
    "conv2 = Conv2D(128, (3, 3), activation='relu', padding='same')(conv2)\n",
    "pool2 = MaxPooling2D(pool_size=(2, 2))(conv2)\n",
    "\n",
    "conv3 = Conv2D(256, (3, 3), activation='relu', padding='same')(pool2)\n",
    "conv3 = Conv2D(256, (3, 3), activation='relu', padding='same')(conv3)\n",
    "pool3 = MaxPooling2D(pool_size=(2, 2))(conv3)\n",
    "\n",
    "conv4 = Conv2D(512, (3, 3), activation='relu', padding='same')(pool3)\n",
    "conv4 = Conv2D(512, (3, 3), activation='relu', padding='same')(conv4)\n",
    "pool4 = MaxPooling2D(pool_size=(2, 2))(conv4)\n",
    "\n",
    "conv5 = Conv2D(512, (3, 3), activation='relu', padding='same')(pool4)\n",
    "conv5 = Conv2D(512, (3, 3), activation='relu', padding='same')(conv5)\n",
    "\n",
    "up6 = concatenate([Conv2DTranspose(256, (2, 2), strides=(2, 2), padding='same')(conv5), conv4], axis=3)\n",
    "conv6 = Conv2D(512, (3, 3), activation='relu', padding='same')(up6)\n",
    "conv6 = Conv2D(512, (3, 3), activation='relu', padding='same')(conv6)\n",
    "\n",
    "up7 = concatenate([Conv2DTranspose(128, (2, 2), strides=(2, 2), padding='same')(conv6), conv3], axis=3)\n",
    "conv7 = Conv2D(256, (3, 3), activation='relu', padding='same')(up7)\n",
    "conv7 = Conv2D(256, (3, 3), activation='relu', padding='same')(conv7)\n",
    "\n",
    "up8 = concatenate([Conv2DTranspose(64, (2, 2), strides=(2, 2), padding='same')(conv7), conv2], axis=3)\n",
    "conv8 = Conv2D(128, (3, 3), activation='relu', padding='same')(up8)\n",
    "conv8 = Conv2D(128, (3, 3), activation='relu', padding='same')(conv8)\n",
    "\n",
    "up9 = concatenate([Conv2DTranspose(32, (2, 2), strides=(2, 2), padding='same')(conv8), conv1], axis=3)\n",
    "conv9 = Conv2D(64, (3, 3), activation='relu', padding='same')(up9)\n",
    "conv9 = Conv2D(64, (3, 3), activation='relu', padding='same')(conv9)\n",
    "\n",
    "conv10 = Conv2D(1, (1, 1), activation='sigmoid')(conv9)\n",
    "\n",
    "model = Model(inputs=[inputs], outputs=[conv10])\n",
    "\n",
    "model.compile(optimizer='adam', loss=weighted_binary_crossentropy_loss, metrics=[mean_iou]) "
   ]
  },
  {
   "cell_type": "code",
   "execution_count": null,
   "metadata": {
    "collapsed": true
   },
   "outputs": [],
   "source": []
  },
  {
   "cell_type": "code",
   "execution_count": 196,
   "metadata": {
    "colab": {
     "autoexec": {
      "startup": false,
      "wait_interval": 0
     },
     "base_uri": "https://localhost:8080/",
     "height": 870,
     "output_extras": [
      {
       "item_id": 156
      },
      {
       "item_id": 314
      },
      {
       "item_id": 463
      },
      {
       "item_id": 507
      }
     ]
    },
    "colab_type": "code",
    "id": "kZYQ_pLxA9SD",
    "outputId": "99f2a368-cee2-4caa-b5b6-fbd5278d9ba0",
    "scrolled": false
   },
   "outputs": [
    {
     "name": "stdout",
     "output_type": "stream",
     "text": [
      "Train on 650 samples, validate on 20 samples\n",
      "Epoch 1/400\n",
      "650/650 [==============================] - 21s 32ms/step - loss: -0.3258 - mean_iou: 0.4392 - val_loss: -0.4206 - val_mean_iou: 0.4944\n",
      "Epoch 2/400\n",
      "650/650 [==============================] - 14s 22ms/step - loss: -0.5166 - mean_iou: 0.5076 - val_loss: -0.5359 - val_mean_iou: 0.5238\n",
      "Epoch 3/400\n",
      "650/650 [==============================] - 14s 22ms/step - loss: -0.5412 - mean_iou: 0.5245 - val_loss: -0.4939 - val_mean_iou: 0.5330\n",
      "Epoch 4/400\n",
      "650/650 [==============================] - 14s 22ms/step - loss: -0.6913 - mean_iou: 0.5487 - val_loss: -0.6689 - val_mean_iou: 0.5667\n",
      "Epoch 5/400\n",
      "650/650 [==============================] - 14s 22ms/step - loss: -0.7445 - mean_iou: 0.5818 - val_loss: -0.6549 - val_mean_iou: 0.5959\n",
      "Epoch 6/400\n",
      "650/650 [==============================] - 14s 22ms/step - loss: -0.7500 - mean_iou: 0.6066 - val_loss: -0.7093 - val_mean_iou: 0.6170\n",
      "Epoch 7/400\n",
      "650/650 [==============================] - 14s 22ms/step - loss: -0.7175 - mean_iou: 0.6254 - val_loss: -0.5981 - val_mean_iou: 0.6312\n",
      "Epoch 8/400\n",
      "650/650 [==============================] - 14s 21ms/step - loss: -0.7369 - mean_iou: 0.6372 - val_loss: -0.7038 - val_mean_iou: 0.6433\n",
      "Epoch 9/400\n",
      "650/650 [==============================] - 14s 22ms/step - loss: -0.7550 - mean_iou: 0.6491 - val_loss: -0.7065 - val_mean_iou: 0.6544\n",
      "Epoch 10/400\n",
      "650/650 [==============================] - 14s 22ms/step - loss: -0.7545 - mean_iou: 0.6587 - val_loss: -0.6935 - val_mean_iou: 0.6634\n",
      "Epoch 11/400\n",
      "650/650 [==============================] - 14s 22ms/step - loss: -0.7622 - mean_iou: 0.6673 - val_loss: -0.6208 - val_mean_iou: 0.6715\n",
      "Epoch 12/400\n",
      "650/650 [==============================] - 14s 22ms/step - loss: -0.7505 - mean_iou: 0.6744 - val_loss: -0.6913 - val_mean_iou: 0.6776\n",
      "Epoch 13/400\n",
      "650/650 [==============================] - 14s 22ms/step - loss: -0.7669 - mean_iou: 0.6806 - val_loss: -0.6784 - val_mean_iou: 0.6838\n",
      "Epoch 14/400\n",
      "650/650 [==============================] - 14s 22ms/step - loss: -0.7652 - mean_iou: 0.6863 - val_loss: -0.7487 - val_mean_iou: 0.6891\n",
      "Epoch 15/400\n",
      "650/650 [==============================] - 14s 22ms/step - loss: -0.7910 - mean_iou: 0.6919 - val_loss: -0.7087 - val_mean_iou: 0.6950\n",
      "Epoch 16/400\n",
      "650/650 [==============================] - 14s 22ms/step - loss: -0.7823 - mean_iou: 0.6974 - val_loss: -0.3168 - val_mean_iou: 0.6998\n",
      "Epoch 17/400\n",
      "650/650 [==============================] - 14s 22ms/step - loss: -0.6911 - mean_iou: 0.6931 - val_loss: -0.6949 - val_mean_iou: 0.6944\n",
      "Epoch 18/400\n",
      "650/650 [==============================] - 14s 22ms/step - loss: -0.7595 - mean_iou: 0.6952 - val_loss: -0.7040 - val_mean_iou: 0.6967\n",
      "Epoch 19/400\n",
      "650/650 [==============================] - 14s 22ms/step - loss: -0.7777 - mean_iou: 0.6986 - val_loss: -0.6667 - val_mean_iou: 0.7005\n",
      "Epoch 20/400\n",
      "650/650 [==============================] - 14s 22ms/step - loss: -0.7807 - mean_iou: 0.7021 - val_loss: -0.7077 - val_mean_iou: 0.7039\n",
      "Epoch 21/400\n",
      "650/650 [==============================] - 14s 22ms/step - loss: -0.8140 - mean_iou: 0.7060 - val_loss: -0.7767 - val_mean_iou: 0.7082\n",
      "Epoch 22/400\n",
      "650/650 [==============================] - 14s 22ms/step - loss: -0.8005 - mean_iou: 0.7102 - val_loss: -0.7906 - val_mean_iou: 0.7119\n",
      "Epoch 23/400\n",
      "650/650 [==============================] - 14s 22ms/step - loss: -0.8411 - mean_iou: 0.7142 - val_loss: -0.7646 - val_mean_iou: 0.7164\n",
      "Epoch 24/400\n",
      "650/650 [==============================] - 14s 22ms/step - loss: -0.8371 - mean_iou: 0.7184 - val_loss: -0.7443 - val_mean_iou: 0.7206\n",
      "Epoch 25/400\n",
      "650/650 [==============================] - 14s 22ms/step - loss: -0.8142 - mean_iou: 0.7220 - val_loss: -0.7608 - val_mean_iou: 0.7238\n",
      "Epoch 26/400\n",
      "650/650 [==============================] - 14s 22ms/step - loss: -0.8561 - mean_iou: 0.7257 - val_loss: -0.7793 - val_mean_iou: 0.7278\n",
      "Epoch 27/400\n",
      "650/650 [==============================] - 14s 22ms/step - loss: -0.8591 - mean_iou: 0.7297 - val_loss: -0.8187 - val_mean_iou: 0.7316\n",
      "Epoch 28/400\n",
      "650/650 [==============================] - 14s 22ms/step - loss: -0.8665 - mean_iou: 0.7335 - val_loss: -0.8077 - val_mean_iou: 0.7354\n",
      "Epoch 29/400\n",
      "650/650 [==============================] - 14s 22ms/step - loss: -0.8751 - mean_iou: 0.7372 - val_loss: -0.8122 - val_mean_iou: 0.7391\n",
      "Epoch 30/400\n",
      "650/650 [==============================] - 14s 22ms/step - loss: -0.8771 - mean_iou: 0.7409 - val_loss: -0.8346 - val_mean_iou: 0.7427\n",
      "Epoch 31/400\n",
      "650/650 [==============================] - 14s 22ms/step - loss: -0.8890 - mean_iou: 0.7445 - val_loss: -0.8122 - val_mean_iou: 0.7463\n",
      "Epoch 32/400\n",
      "650/650 [==============================] - 14s 22ms/step - loss: -0.8887 - mean_iou: 0.7481 - val_loss: -0.8331 - val_mean_iou: 0.7498\n",
      "Epoch 33/400\n",
      "650/650 [==============================] - 14s 22ms/step - loss: -0.8905 - mean_iou: 0.7514 - val_loss: -0.8248 - val_mean_iou: 0.7531\n",
      "Epoch 34/400\n",
      "650/650 [==============================] - 14s 22ms/step - loss: -0.8945 - mean_iou: 0.7546 - val_loss: -0.8203 - val_mean_iou: 0.7562\n",
      "Epoch 35/400\n",
      "650/650 [==============================] - 14s 22ms/step - loss: -0.8934 - mean_iou: 0.7577 - val_loss: -0.8141 - val_mean_iou: 0.7593\n",
      "Epoch 36/400\n",
      "650/650 [==============================] - 14s 22ms/step - loss: -0.8983 - mean_iou: 0.7608 - val_loss: -0.8566 - val_mean_iou: 0.7622\n",
      "Epoch 37/400\n",
      "650/650 [==============================] - 14s 22ms/step - loss: -0.8966 - mean_iou: 0.7636 - val_loss: -0.8357 - val_mean_iou: 0.7651\n",
      "Epoch 38/400\n",
      "650/650 [==============================] - 14s 22ms/step - loss: -0.8993 - mean_iou: 0.7664 - val_loss: -0.8373 - val_mean_iou: 0.7678\n",
      "Epoch 39/400\n",
      "650/650 [==============================] - 14s 22ms/step - loss: -0.8984 - mean_iou: 0.7691 - val_loss: -0.8492 - val_mean_iou: 0.7704\n",
      "Epoch 40/400\n",
      "650/650 [==============================] - 14s 22ms/step - loss: -0.8939 - mean_iou: 0.7717 - val_loss: -0.8540 - val_mean_iou: 0.7729\n",
      "Epoch 41/400\n",
      "650/650 [==============================] - 14s 22ms/step - loss: -0.8822 - mean_iou: 0.7739 - val_loss: -0.8364 - val_mean_iou: 0.7750\n",
      "Epoch 42/400\n",
      "650/650 [==============================] - 14s 22ms/step - loss: -0.8910 - mean_iou: 0.7761 - val_loss: -0.8701 - val_mean_iou: 0.7772\n",
      "Epoch 43/400\n",
      "650/650 [==============================] - 14s 22ms/step - loss: -0.9010 - mean_iou: 0.7782 - val_loss: -0.8862 - val_mean_iou: 0.7794\n",
      "Epoch 44/400\n",
      "650/650 [==============================] - 14s 22ms/step - loss: -0.9048 - mean_iou: 0.7805 - val_loss: -0.8908 - val_mean_iou: 0.7817\n",
      "Epoch 45/400\n",
      "650/650 [==============================] - 14s 22ms/step - loss: -0.9049 - mean_iou: 0.7827 - val_loss: -0.8654 - val_mean_iou: 0.7838\n",
      "Epoch 46/400\n",
      "650/650 [==============================] - 14s 22ms/step - loss: -0.9066 - mean_iou: 0.7848 - val_loss: -0.8838 - val_mean_iou: 0.7859\n",
      "Epoch 47/400\n",
      "650/650 [==============================] - 14s 22ms/step - loss: -0.9074 - mean_iou: 0.7869 - val_loss: -0.8673 - val_mean_iou: 0.7879\n",
      "Epoch 48/400\n",
      "650/650 [==============================] - 14s 22ms/step - loss: -0.9092 - mean_iou: 0.7889 - val_loss: -0.8903 - val_mean_iou: 0.7899\n",
      "Epoch 49/400\n",
      "650/650 [==============================] - 14s 22ms/step - loss: -0.9090 - mean_iou: 0.7908 - val_loss: -0.8882 - val_mean_iou: 0.7918\n",
      "Epoch 50/400\n",
      "650/650 [==============================] - 14s 22ms/step - loss: -0.9083 - mean_iou: 0.7927 - val_loss: -0.8947 - val_mean_iou: 0.7936\n",
      "Epoch 51/400\n",
      "650/650 [==============================] - 14s 22ms/step - loss: -0.9104 - mean_iou: 0.7945 - val_loss: -0.8979 - val_mean_iou: 0.7954\n",
      "Epoch 52/400\n",
      "650/650 [==============================] - 14s 22ms/step - loss: -0.9107 - mean_iou: 0.7963 - val_loss: -0.8921 - val_mean_iou: 0.7972\n",
      "Epoch 53/400\n",
      "650/650 [==============================] - 14s 22ms/step - loss: -0.9106 - mean_iou: 0.7980 - val_loss: -0.8897 - val_mean_iou: 0.7989\n",
      "Epoch 54/400\n",
      "650/650 [==============================] - 14s 22ms/step - loss: -0.9115 - mean_iou: 0.7997 - val_loss: -0.8905 - val_mean_iou: 0.8005\n",
      "Epoch 55/400\n",
      "650/650 [==============================] - 14s 22ms/step - loss: -0.9089 - mean_iou: 0.8013 - val_loss: -0.8705 - val_mean_iou: 0.8020\n",
      "Epoch 56/400\n",
      "650/650 [==============================] - 14s 22ms/step - loss: -0.9121 - mean_iou: 0.8028 - val_loss: -0.8838 - val_mean_iou: 0.8036\n",
      "Epoch 57/400\n",
      "650/650 [==============================] - 14s 22ms/step - loss: -0.9126 - mean_iou: 0.8043 - val_loss: -0.8974 - val_mean_iou: 0.8051\n",
      "Epoch 58/400\n",
      "650/650 [==============================] - 14s 22ms/step - loss: -0.9122 - mean_iou: 0.8058 - val_loss: -0.8992 - val_mean_iou: 0.8065\n",
      "Epoch 59/400\n",
      "650/650 [==============================] - 14s 22ms/step - loss: -0.9085 - mean_iou: 0.8072 - val_loss: -0.8859 - val_mean_iou: 0.8079\n",
      "Epoch 60/400\n",
      "650/650 [==============================] - 14s 21ms/step - loss: -0.9107 - mean_iou: 0.8086 - val_loss: -0.8863 - val_mean_iou: 0.8093\n",
      "Epoch 61/400\n",
      "650/650 [==============================] - 14s 22ms/step - loss: -0.9132 - mean_iou: 0.8099 - val_loss: -0.8869 - val_mean_iou: 0.8106\n",
      "Epoch 62/400\n",
      "650/650 [==============================] - 14s 22ms/step - loss: -0.9141 - mean_iou: 0.8112 - val_loss: -0.8971 - val_mean_iou: 0.8119\n",
      "Epoch 63/400\n",
      "650/650 [==============================] - 14s 22ms/step - loss: -0.9142 - mean_iou: 0.8125 - val_loss: -0.8970 - val_mean_iou: 0.8132\n",
      "Epoch 64/400\n",
      "650/650 [==============================] - 14s 22ms/step - loss: -0.9152 - mean_iou: 0.8138 - val_loss: -0.8933 - val_mean_iou: 0.8144\n",
      "Epoch 65/400\n",
      "650/650 [==============================] - 14s 21ms/step - loss: -0.9145 - mean_iou: 0.8151 - val_loss: -0.9035 - val_mean_iou: 0.8157\n",
      "Epoch 66/400\n",
      "650/650 [==============================] - 14s 22ms/step - loss: -0.9151 - mean_iou: 0.8163 - val_loss: -0.9005 - val_mean_iou: 0.8168\n",
      "Epoch 67/400\n",
      "650/650 [==============================] - 14s 21ms/step - loss: -0.9142 - mean_iou: 0.8174 - val_loss: -0.8870 - val_mean_iou: 0.8180\n",
      "Epoch 68/400\n",
      "650/650 [==============================] - 14s 22ms/step - loss: -0.9133 - mean_iou: 0.8186 - val_loss: -0.8979 - val_mean_iou: 0.8191\n",
      "Epoch 69/400\n",
      "650/650 [==============================] - 14s 22ms/step - loss: -0.9162 - mean_iou: 0.8197 - val_loss: -0.8982 - val_mean_iou: 0.8202\n",
      "Epoch 70/400\n",
      "650/650 [==============================] - 14s 22ms/step - loss: -0.9158 - mean_iou: 0.8208 - val_loss: -0.8884 - val_mean_iou: 0.8213\n",
      "Epoch 71/400\n",
      "650/650 [==============================] - 14s 22ms/step - loss: -0.9166 - mean_iou: 0.8218 - val_loss: -0.8974 - val_mean_iou: 0.8224\n",
      "Epoch 72/400\n",
      "650/650 [==============================] - 14s 22ms/step - loss: -0.9165 - mean_iou: 0.8229 - val_loss: -0.9008 - val_mean_iou: 0.8234\n",
      "Epoch 73/400\n",
      "650/650 [==============================] - 14s 22ms/step - loss: -0.9173 - mean_iou: 0.8239 - val_loss: -0.8962 - val_mean_iou: 0.8244\n",
      "Epoch 74/400\n",
      "650/650 [==============================] - 14s 22ms/step - loss: -0.9185 - mean_iou: 0.8249 - val_loss: -0.8945 - val_mean_iou: 0.8254\n",
      "Epoch 75/400\n",
      "650/650 [==============================] - 14s 22ms/step - loss: -0.9178 - mean_iou: 0.8259 - val_loss: -0.8906 - val_mean_iou: 0.8264\n",
      "Epoch 76/400\n",
      "650/650 [==============================] - 14s 22ms/step - loss: -0.9156 - mean_iou: 0.8268 - val_loss: -0.8972 - val_mean_iou: 0.8273\n",
      "Epoch 77/400\n",
      "650/650 [==============================] - 14s 21ms/step - loss: -0.9182 - mean_iou: 0.8278 - val_loss: -0.9015 - val_mean_iou: 0.8282\n",
      "Epoch 78/400\n",
      "650/650 [==============================] - 14s 22ms/step - loss: -0.9173 - mean_iou: 0.8287 - val_loss: -0.8962 - val_mean_iou: 0.8291\n",
      "Epoch 79/400\n",
      "650/650 [==============================] - 14s 21ms/step - loss: -0.9191 - mean_iou: 0.8295 - val_loss: -0.8959 - val_mean_iou: 0.8300\n",
      "Epoch 80/400\n",
      "650/650 [==============================] - 14s 22ms/step - loss: -0.9189 - mean_iou: 0.8304 - val_loss: -0.8982 - val_mean_iou: 0.8309\n",
      "Epoch 81/400\n",
      "650/650 [==============================] - 14s 22ms/step - loss: -0.9186 - mean_iou: 0.8313 - val_loss: -0.8992 - val_mean_iou: 0.8317\n",
      "Epoch 82/400\n",
      "650/650 [==============================] - 14s 22ms/step - loss: -0.9176 - mean_iou: 0.8321 - val_loss: -0.8882 - val_mean_iou: 0.8325\n",
      "Epoch 83/400\n",
      "650/650 [==============================] - 14s 21ms/step - loss: -0.9192 - mean_iou: 0.8329 - val_loss: -0.8956 - val_mean_iou: 0.8333\n",
      "Epoch 84/400\n",
      "650/650 [==============================] - 14s 21ms/step - loss: -0.9189 - mean_iou: 0.8337 - val_loss: -0.9000 - val_mean_iou: 0.8341\n",
      "Epoch 85/400\n",
      "650/650 [==============================] - 14s 21ms/step - loss: -0.9192 - mean_iou: 0.8345 - val_loss: -0.8866 - val_mean_iou: 0.8349\n",
      "Epoch 86/400\n",
      "650/650 [==============================] - 14s 22ms/step - loss: -0.9175 - mean_iou: 0.8353 - val_loss: -0.8986 - val_mean_iou: 0.8357\n",
      "Epoch 87/400\n",
      "650/650 [==============================] - 14s 22ms/step - loss: -0.9201 - mean_iou: 0.8360 - val_loss: -0.8861 - val_mean_iou: 0.8364\n",
      "Epoch 88/400\n",
      "650/650 [==============================] - 14s 22ms/step - loss: -0.9206 - mean_iou: 0.8368 - val_loss: -0.8989 - val_mean_iou: 0.8372\n",
      "Epoch 89/400\n",
      "650/650 [==============================] - 14s 22ms/step - loss: -0.9205 - mean_iou: 0.8375 - val_loss: -0.8831 - val_mean_iou: 0.8379\n",
      "Epoch 90/400\n",
      "650/650 [==============================] - 14s 22ms/step - loss: -0.9195 - mean_iou: 0.8382 - val_loss: -0.8955 - val_mean_iou: 0.8386\n",
      "Epoch 91/400\n",
      "650/650 [==============================] - 14s 22ms/step - loss: -0.9212 - mean_iou: 0.8389 - val_loss: -0.8917 - val_mean_iou: 0.8393\n",
      "Epoch 92/400\n",
      "650/650 [==============================] - 14s 22ms/step - loss: -0.9230 - mean_iou: 0.8396 - val_loss: -0.8984 - val_mean_iou: 0.8400\n",
      "Epoch 93/400\n",
      "650/650 [==============================] - 14s 22ms/step - loss: -0.9237 - mean_iou: 0.8403 - val_loss: -0.9014 - val_mean_iou: 0.8407\n",
      "Epoch 94/400\n",
      "650/650 [==============================] - 14s 22ms/step - loss: -0.9235 - mean_iou: 0.8410 - val_loss: -0.8984 - val_mean_iou: 0.8414\n",
      "Epoch 95/400\n",
      "650/650 [==============================] - 14s 22ms/step - loss: -0.9233 - mean_iou: 0.8417 - val_loss: -0.8897 - val_mean_iou: 0.8421\n",
      "Epoch 96/400\n",
      "650/650 [==============================] - 14s 22ms/step - loss: -0.9229 - mean_iou: 0.8424 - val_loss: -0.8941 - val_mean_iou: 0.8427\n",
      "Epoch 97/400\n",
      "650/650 [==============================] - 14s 22ms/step - loss: -0.9232 - mean_iou: 0.8430 - val_loss: -0.8916 - val_mean_iou: 0.8434\n",
      "Epoch 98/400\n",
      "650/650 [==============================] - 14s 22ms/step - loss: -0.9237 - mean_iou: 0.8437 - val_loss: -0.8997 - val_mean_iou: 0.8440\n",
      "Epoch 99/400\n",
      "650/650 [==============================] - 14s 22ms/step - loss: -0.9247 - mean_iou: 0.8443 - val_loss: -0.8906 - val_mean_iou: 0.8446\n",
      "Epoch 100/400\n",
      "650/650 [==============================] - 14s 22ms/step - loss: -0.9238 - mean_iou: 0.8449 - val_loss: -0.8936 - val_mean_iou: 0.8452\n",
      "Epoch 101/400\n",
      "650/650 [==============================] - 14s 21ms/step - loss: -0.9251 - mean_iou: 0.8455 - val_loss: -0.8872 - val_mean_iou: 0.8459\n",
      "Epoch 102/400\n",
      "650/650 [==============================] - 14s 22ms/step - loss: -0.9241 - mean_iou: 0.8461 - val_loss: -0.9029 - val_mean_iou: 0.8464\n",
      "Epoch 103/400\n",
      "650/650 [==============================] - 14s 22ms/step - loss: -0.9252 - mean_iou: 0.8467 - val_loss: -0.8952 - val_mean_iou: 0.8470\n",
      "Epoch 104/400\n",
      "650/650 [==============================] - 15s 23ms/step - loss: -0.9256 - mean_iou: 0.8473 - val_loss: -0.8970 - val_mean_iou: 0.8476\n",
      "Epoch 105/400\n",
      "650/650 [==============================] - 15s 23ms/step - loss: -0.9247 - mean_iou: 0.8479 - val_loss: -0.8951 - val_mean_iou: 0.8482\n",
      "Epoch 106/400\n",
      "650/650 [==============================] - 14s 22ms/step - loss: -0.9238 - mean_iou: 0.8484 - val_loss: -0.8994 - val_mean_iou: 0.8487\n",
      "Epoch 107/400\n",
      "650/650 [==============================] - 14s 22ms/step - loss: -0.9247 - mean_iou: 0.8490 - val_loss: -0.8965 - val_mean_iou: 0.8493\n",
      "Epoch 108/400\n",
      "650/650 [==============================] - 14s 22ms/step - loss: -0.9255 - mean_iou: 0.8495 - val_loss: -0.8912 - val_mean_iou: 0.8498\n",
      "Epoch 109/400\n",
      "650/650 [==============================] - 14s 22ms/step - loss: -0.9274 - mean_iou: 0.8501 - val_loss: -0.8978 - val_mean_iou: 0.8504\n",
      "Epoch 110/400\n",
      "650/650 [==============================] - 14s 22ms/step - loss: -0.9291 - mean_iou: 0.8507 - val_loss: -0.8909 - val_mean_iou: 0.8509\n",
      "Epoch 111/400\n"
     ]
    },
    {
     "name": "stdout",
     "output_type": "stream",
     "text": [
      "650/650 [==============================] - 14s 22ms/step - loss: -0.9273 - mean_iou: 0.8512 - val_loss: -0.8955 - val_mean_iou: 0.8515\n",
      "Epoch 112/400\n",
      "650/650 [==============================] - 14s 22ms/step - loss: -0.9286 - mean_iou: 0.8517 - val_loss: -0.8957 - val_mean_iou: 0.8520\n",
      "Epoch 113/400\n",
      "650/650 [==============================] - 14s 22ms/step - loss: -0.9291 - mean_iou: 0.8523 - val_loss: -0.8922 - val_mean_iou: 0.8525\n",
      "Epoch 114/400\n",
      "650/650 [==============================] - 14s 21ms/step - loss: -0.9300 - mean_iou: 0.8528 - val_loss: -0.8910 - val_mean_iou: 0.8531\n",
      "Epoch 115/400\n",
      "650/650 [==============================] - 14s 22ms/step - loss: -0.9297 - mean_iou: 0.8533 - val_loss: -0.8882 - val_mean_iou: 0.8536\n",
      "Epoch 116/400\n",
      "650/650 [==============================] - 14s 22ms/step - loss: -0.9297 - mean_iou: 0.8538 - val_loss: -0.8932 - val_mean_iou: 0.8541\n",
      "Epoch 117/400\n",
      "650/650 [==============================] - 14s 22ms/step - loss: -0.9300 - mean_iou: 0.8543 - val_loss: -0.8908 - val_mean_iou: 0.8546\n",
      "Epoch 118/400\n",
      "650/650 [==============================] - 14s 22ms/step - loss: -0.9314 - mean_iou: 0.8548 - val_loss: -0.8951 - val_mean_iou: 0.8551\n",
      "Epoch 119/400\n",
      "650/650 [==============================] - 14s 22ms/step - loss: -0.9288 - mean_iou: 0.8553 - val_loss: -0.8876 - val_mean_iou: 0.8556\n",
      "Epoch 120/400\n",
      "650/650 [==============================] - 14s 22ms/step - loss: -0.9291 - mean_iou: 0.8558 - val_loss: -0.8895 - val_mean_iou: 0.8560\n",
      "Epoch 121/400\n",
      "650/650 [==============================] - 14s 21ms/step - loss: -0.9319 - mean_iou: 0.8563 - val_loss: -0.8950 - val_mean_iou: 0.8565\n",
      "Epoch 122/400\n",
      "650/650 [==============================] - 14s 22ms/step - loss: -0.9304 - mean_iou: 0.8567 - val_loss: -0.8921 - val_mean_iou: 0.8570\n",
      "Epoch 123/400\n",
      "650/650 [==============================] - 14s 22ms/step - loss: -0.9319 - mean_iou: 0.8572 - val_loss: -0.8970 - val_mean_iou: 0.8575\n",
      "Epoch 124/400\n",
      "650/650 [==============================] - 14s 22ms/step - loss: -0.9323 - mean_iou: 0.8577 - val_loss: -0.8911 - val_mean_iou: 0.8579\n",
      "Epoch 125/400\n",
      "650/650 [==============================] - 14s 21ms/step - loss: -0.9334 - mean_iou: 0.8581 - val_loss: -0.8915 - val_mean_iou: 0.8584\n",
      "Epoch 126/400\n",
      "650/650 [==============================] - 14s 22ms/step - loss: -0.9342 - mean_iou: 0.8586 - val_loss: -0.8909 - val_mean_iou: 0.8589\n",
      "Epoch 127/400\n",
      "650/650 [==============================] - 14s 22ms/step - loss: -0.9350 - mean_iou: 0.8591 - val_loss: -0.8929 - val_mean_iou: 0.8593\n",
      "Epoch 128/400\n",
      "650/650 [==============================] - 14s 22ms/step - loss: -0.9359 - mean_iou: 0.8595 - val_loss: -0.8904 - val_mean_iou: 0.8598\n",
      "Epoch 129/400\n",
      "650/650 [==============================] - 14s 22ms/step - loss: -0.9364 - mean_iou: 0.8600 - val_loss: -0.8869 - val_mean_iou: 0.8602\n",
      "Epoch 130/400\n",
      "650/650 [==============================] - 14s 22ms/step - loss: -0.9336 - mean_iou: 0.8604 - val_loss: -0.8890 - val_mean_iou: 0.8607\n",
      "Epoch 131/400\n",
      "650/650 [==============================] - 14s 22ms/step - loss: -0.9355 - mean_iou: 0.8609 - val_loss: -0.8906 - val_mean_iou: 0.8611\n",
      "Epoch 132/400\n",
      "650/650 [==============================] - 14s 22ms/step - loss: -0.9362 - mean_iou: 0.8613 - val_loss: -0.8901 - val_mean_iou: 0.8615\n",
      "Epoch 133/400\n",
      "650/650 [==============================] - 14s 22ms/step - loss: -0.9370 - mean_iou: 0.8617 - val_loss: -0.8899 - val_mean_iou: 0.8620\n",
      "Epoch 134/400\n",
      "650/650 [==============================] - 14s 22ms/step - loss: -0.9352 - mean_iou: 0.8622 - val_loss: -0.8944 - val_mean_iou: 0.8624\n",
      "Epoch 135/400\n",
      "650/650 [==============================] - 14s 22ms/step - loss: -0.9341 - mean_iou: 0.8626 - val_loss: -0.8883 - val_mean_iou: 0.8628\n",
      "Epoch 136/400\n",
      "650/650 [==============================] - 14s 22ms/step - loss: -0.9355 - mean_iou: 0.8630 - val_loss: -0.8846 - val_mean_iou: 0.8632\n",
      "Epoch 137/400\n",
      "650/650 [==============================] - 14s 22ms/step - loss: -0.9367 - mean_iou: 0.8634 - val_loss: -0.8876 - val_mean_iou: 0.8636\n",
      "Epoch 138/400\n",
      "650/650 [==============================] - 14s 22ms/step - loss: -0.9374 - mean_iou: 0.8638 - val_loss: -0.8956 - val_mean_iou: 0.8640\n",
      "Epoch 139/400\n",
      "650/650 [==============================] - 14s 22ms/step - loss: -0.9380 - mean_iou: 0.8642 - val_loss: -0.8908 - val_mean_iou: 0.8644\n",
      "Epoch 140/400\n",
      "650/650 [==============================] - 14s 21ms/step - loss: -0.9398 - mean_iou: 0.8646 - val_loss: -0.8894 - val_mean_iou: 0.8649\n",
      "Epoch 141/400\n",
      "650/650 [==============================] - 14s 22ms/step - loss: -0.9391 - mean_iou: 0.8651 - val_loss: -0.8870 - val_mean_iou: 0.8653\n",
      "Epoch 142/400\n",
      "650/650 [==============================] - 14s 22ms/step - loss: -0.9398 - mean_iou: 0.8655 - val_loss: -0.8865 - val_mean_iou: 0.8657\n",
      "Epoch 143/400\n",
      "650/650 [==============================] - 14s 22ms/step - loss: -0.9399 - mean_iou: 0.8659 - val_loss: -0.8930 - val_mean_iou: 0.8661\n",
      "Epoch 144/400\n",
      "650/650 [==============================] - 14s 21ms/step - loss: -0.9398 - mean_iou: 0.8662 - val_loss: -0.8925 - val_mean_iou: 0.8665\n",
      "Epoch 145/400\n",
      "650/650 [==============================] - 14s 22ms/step - loss: -0.9418 - mean_iou: 0.8666 - val_loss: -0.8879 - val_mean_iou: 0.8669\n",
      "Epoch 146/400\n",
      "650/650 [==============================] - 14s 22ms/step - loss: -0.9428 - mean_iou: 0.8671 - val_loss: -0.8871 - val_mean_iou: 0.8673\n",
      "Epoch 147/400\n",
      "650/650 [==============================] - 14s 22ms/step - loss: -0.9428 - mean_iou: 0.8674 - val_loss: -0.8896 - val_mean_iou: 0.8677\n",
      "Epoch 148/400\n",
      "650/650 [==============================] - 14s 22ms/step - loss: -0.9434 - mean_iou: 0.8678 - val_loss: -0.8940 - val_mean_iou: 0.8681\n",
      "Epoch 149/400\n",
      "650/650 [==============================] - 14s 22ms/step - loss: -0.9446 - mean_iou: 0.8682 - val_loss: -0.8907 - val_mean_iou: 0.8684\n",
      "Epoch 150/400\n",
      "650/650 [==============================] - 14s 22ms/step - loss: -0.9454 - mean_iou: 0.8686 - val_loss: -0.8905 - val_mean_iou: 0.8688\n",
      "Epoch 151/400\n",
      "650/650 [==============================] - 14s 22ms/step - loss: -0.9447 - mean_iou: 0.8690 - val_loss: -0.8870 - val_mean_iou: 0.8692\n",
      "Epoch 152/400\n",
      "650/650 [==============================] - 14s 21ms/step - loss: -0.9454 - mean_iou: 0.8694 - val_loss: -0.8895 - val_mean_iou: 0.8696\n",
      "Epoch 153/400\n",
      "650/650 [==============================] - 14s 22ms/step - loss: -0.9464 - mean_iou: 0.8698 - val_loss: -0.8914 - val_mean_iou: 0.8700\n",
      "Epoch 154/400\n",
      "650/650 [==============================] - 14s 22ms/step - loss: -0.9459 - mean_iou: 0.8702 - val_loss: -0.8897 - val_mean_iou: 0.8704\n",
      "Epoch 155/400\n",
      "650/650 [==============================] - 14s 22ms/step - loss: -0.9463 - mean_iou: 0.8706 - val_loss: -0.8873 - val_mean_iou: 0.8708\n",
      "Epoch 156/400\n",
      "650/650 [==============================] - 14s 22ms/step - loss: -0.9469 - mean_iou: 0.8709 - val_loss: -0.8919 - val_mean_iou: 0.8711\n",
      "Epoch 157/400\n",
      "650/650 [==============================] - 14s 22ms/step - loss: -0.9474 - mean_iou: 0.8713 - val_loss: -0.8906 - val_mean_iou: 0.8715\n",
      "Epoch 158/400\n",
      "650/650 [==============================] - 14s 22ms/step - loss: -0.9474 - mean_iou: 0.8717 - val_loss: -0.8860 - val_mean_iou: 0.8719\n",
      "Epoch 159/400\n",
      "650/650 [==============================] - 14s 22ms/step - loss: -0.9469 - mean_iou: 0.8720 - val_loss: -0.8870 - val_mean_iou: 0.8722\n",
      "Epoch 160/400\n",
      "650/650 [==============================] - 14s 22ms/step - loss: -0.9484 - mean_iou: 0.8724 - val_loss: -0.8894 - val_mean_iou: 0.8726\n",
      "Epoch 161/400\n",
      "650/650 [==============================] - 14s 22ms/step - loss: -0.9499 - mean_iou: 0.8728 - val_loss: -0.8879 - val_mean_iou: 0.8730\n",
      "Epoch 162/400\n",
      "650/650 [==============================] - 14s 22ms/step - loss: -0.9505 - mean_iou: 0.8732 - val_loss: -0.8890 - val_mean_iou: 0.8733\n",
      "Epoch 163/400\n",
      "650/650 [==============================] - 14s 21ms/step - loss: -0.9513 - mean_iou: 0.8735 - val_loss: -0.8900 - val_mean_iou: 0.8737\n",
      "Epoch 164/400\n",
      "650/650 [==============================] - 14s 22ms/step - loss: -0.9498 - mean_iou: 0.8739 - val_loss: -0.8910 - val_mean_iou: 0.8741\n",
      "Epoch 165/400\n",
      "650/650 [==============================] - 14s 22ms/step - loss: -0.9477 - mean_iou: 0.8742 - val_loss: -0.8919 - val_mean_iou: 0.8744\n",
      "Epoch 166/400\n"
     ]
    },
    {
     "name": "stdout",
     "output_type": "stream",
     "text": [
      "650/650 [==============================] - 14s 22ms/step - loss: -0.9457 - mean_iou: 0.8746 - val_loss: -0.8868 - val_mean_iou: 0.8747\n",
      "Epoch 167/400\n",
      "650/650 [==============================] - 14s 22ms/step - loss: -0.9479 - mean_iou: 0.8749 - val_loss: -0.8865 - val_mean_iou: 0.8751\n",
      "Epoch 168/400\n",
      "650/650 [==============================] - 14s 22ms/step - loss: -0.9500 - mean_iou: 0.8752 - val_loss: -0.8861 - val_mean_iou: 0.8754\n",
      "Epoch 169/400\n",
      "650/650 [==============================] - 14s 22ms/step - loss: -0.9520 - mean_iou: 0.8756 - val_loss: -0.8899 - val_mean_iou: 0.8758\n",
      "Epoch 170/400\n",
      "650/650 [==============================] - 14s 22ms/step - loss: -0.9527 - mean_iou: 0.8759 - val_loss: -0.8836 - val_mean_iou: 0.8761\n",
      "Epoch 171/400\n",
      "650/650 [==============================] - 14s 22ms/step - loss: -0.9540 - mean_iou: 0.8763 - val_loss: -0.8868 - val_mean_iou: 0.8765\n",
      "Epoch 172/400\n",
      "650/650 [==============================] - 14s 22ms/step - loss: -0.9539 - mean_iou: 0.8766 - val_loss: -0.8843 - val_mean_iou: 0.8768\n",
      "Epoch 173/400\n",
      "650/650 [==============================] - 14s 22ms/step - loss: -0.9534 - mean_iou: 0.8770 - val_loss: -0.8905 - val_mean_iou: 0.8771\n",
      "Epoch 174/400\n",
      "650/650 [==============================] - 14s 21ms/step - loss: -0.9547 - mean_iou: 0.8773 - val_loss: -0.8862 - val_mean_iou: 0.8775\n",
      "Epoch 175/400\n",
      "650/650 [==============================] - 14s 22ms/step - loss: -0.9531 - mean_iou: 0.8776 - val_loss: -0.8860 - val_mean_iou: 0.8778\n",
      "Epoch 176/400\n",
      "650/650 [==============================] - 15s 23ms/step - loss: -0.9551 - mean_iou: 0.8780 - val_loss: -0.8859 - val_mean_iou: 0.8782\n",
      "Epoch 177/400\n",
      "650/650 [==============================] - 14s 22ms/step - loss: -0.9542 - mean_iou: 0.8783 - val_loss: -0.8849 - val_mean_iou: 0.8785\n",
      "Epoch 178/400\n",
      "650/650 [==============================] - 14s 22ms/step - loss: -0.9548 - mean_iou: 0.8786 - val_loss: -0.8882 - val_mean_iou: 0.8788\n",
      "Epoch 179/400\n",
      "650/650 [==============================] - 14s 22ms/step - loss: -0.9541 - mean_iou: 0.8790 - val_loss: -0.8828 - val_mean_iou: 0.8791\n",
      "Epoch 180/400\n",
      "650/650 [==============================] - 14s 22ms/step - loss: -0.9544 - mean_iou: 0.8793 - val_loss: -0.8901 - val_mean_iou: 0.8795\n",
      "Epoch 181/400\n",
      "650/650 [==============================] - 14s 22ms/step - loss: -0.9535 - mean_iou: 0.8796 - val_loss: -0.8869 - val_mean_iou: 0.8798\n",
      "Epoch 182/400\n",
      "650/650 [==============================] - 14s 21ms/step - loss: -0.9557 - mean_iou: 0.8799 - val_loss: -0.8862 - val_mean_iou: 0.8801\n",
      "Epoch 183/400\n",
      "650/650 [==============================] - 14s 22ms/step - loss: -0.9558 - mean_iou: 0.8802 - val_loss: -0.8848 - val_mean_iou: 0.8804\n",
      "Epoch 184/400\n",
      "650/650 [==============================] - 14s 22ms/step - loss: -0.9562 - mean_iou: 0.8806 - val_loss: -0.8861 - val_mean_iou: 0.8807\n",
      "Epoch 185/400\n",
      "650/650 [==============================] - 14s 22ms/step - loss: -0.9570 - mean_iou: 0.8809 - val_loss: -0.8860 - val_mean_iou: 0.8810\n",
      "Epoch 186/400\n",
      "650/650 [==============================] - 14s 22ms/step - loss: -0.9571 - mean_iou: 0.8812 - val_loss: -0.8849 - val_mean_iou: 0.8814\n",
      "Epoch 187/400\n",
      "650/650 [==============================] - 14s 22ms/step - loss: -0.9580 - mean_iou: 0.8815 - val_loss: -0.8850 - val_mean_iou: 0.8817\n",
      "Epoch 188/400\n",
      "650/650 [==============================] - 14s 22ms/step - loss: -0.9584 - mean_iou: 0.8818 - val_loss: -0.8779 - val_mean_iou: 0.8820\n",
      "Epoch 189/400\n",
      "650/650 [==============================] - 14s 22ms/step - loss: -0.9550 - mean_iou: 0.8821 - val_loss: -0.8870 - val_mean_iou: 0.8823\n",
      "Epoch 190/400\n",
      "650/650 [==============================] - 14s 22ms/step - loss: -0.9569 - mean_iou: 0.8824 - val_loss: -0.8872 - val_mean_iou: 0.8826\n",
      "Epoch 191/400\n",
      "650/650 [==============================] - 14s 22ms/step - loss: -0.9572 - mean_iou: 0.8827 - val_loss: -0.8886 - val_mean_iou: 0.8829\n",
      "Epoch 192/400\n",
      "650/650 [==============================] - 14s 22ms/step - loss: -0.9588 - mean_iou: 0.8830 - val_loss: -0.8848 - val_mean_iou: 0.8832\n",
      "Epoch 193/400\n",
      "650/650 [==============================] - 14s 21ms/step - loss: -0.9572 - mean_iou: 0.8833 - val_loss: -0.8905 - val_mean_iou: 0.8835\n",
      "Epoch 194/400\n",
      "650/650 [==============================] - 14s 22ms/step - loss: -0.9564 - mean_iou: 0.8836 - val_loss: -0.8789 - val_mean_iou: 0.8838\n",
      "Epoch 195/400\n",
      "650/650 [==============================] - 14s 22ms/step - loss: -0.9572 - mean_iou: 0.8839 - val_loss: -0.8845 - val_mean_iou: 0.8840\n",
      "Epoch 196/400\n",
      "650/650 [==============================] - 14s 21ms/step - loss: -0.9576 - mean_iou: 0.8842 - val_loss: -0.8860 - val_mean_iou: 0.8843\n",
      "Epoch 197/400\n",
      "650/650 [==============================] - 14s 21ms/step - loss: -0.9592 - mean_iou: 0.8845 - val_loss: -0.8853 - val_mean_iou: 0.8846\n",
      "Epoch 198/400\n",
      "650/650 [==============================] - 14s 22ms/step - loss: -0.9584 - mean_iou: 0.8848 - val_loss: -0.8824 - val_mean_iou: 0.8849\n",
      "Epoch 199/400\n",
      "650/650 [==============================] - 14s 21ms/step - loss: -0.9563 - mean_iou: 0.8850 - val_loss: -0.8837 - val_mean_iou: 0.8852\n",
      "Epoch 200/400\n",
      "650/650 [==============================] - 14s 22ms/step - loss: -0.9574 - mean_iou: 0.8853 - val_loss: -0.8832 - val_mean_iou: 0.8855\n",
      "Epoch 201/400\n",
      "650/650 [==============================] - 14s 22ms/step - loss: -0.9598 - mean_iou: 0.8856 - val_loss: -0.8862 - val_mean_iou: 0.8857\n",
      "Epoch 202/400\n",
      "650/650 [==============================] - 14s 22ms/step - loss: -0.9609 - mean_iou: 0.8859 - val_loss: -0.8846 - val_mean_iou: 0.8860\n",
      "Epoch 203/400\n",
      "650/650 [==============================] - 14s 22ms/step - loss: -0.9614 - mean_iou: 0.8862 - val_loss: -0.8863 - val_mean_iou: 0.8863\n",
      "Epoch 204/400\n",
      "650/650 [==============================] - 14s 22ms/step - loss: -0.9617 - mean_iou: 0.8864 - val_loss: -0.8885 - val_mean_iou: 0.8866\n",
      "Epoch 205/400\n",
      "650/650 [==============================] - 14s 22ms/step - loss: -0.9623 - mean_iou: 0.8867 - val_loss: -0.8867 - val_mean_iou: 0.8869\n",
      "Epoch 206/400\n",
      "650/650 [==============================] - 14s 22ms/step - loss: -0.9625 - mean_iou: 0.8870 - val_loss: -0.8861 - val_mean_iou: 0.8872\n",
      "Epoch 207/400\n",
      "650/650 [==============================] - 14s 22ms/step - loss: -0.9618 - mean_iou: 0.8873 - val_loss: -0.8830 - val_mean_iou: 0.8874\n",
      "Epoch 208/400\n",
      "650/650 [==============================] - 14s 22ms/step - loss: -0.9598 - mean_iou: 0.8875 - val_loss: -0.8863 - val_mean_iou: 0.8877\n",
      "Epoch 209/400\n",
      "650/650 [==============================] - 14s 22ms/step - loss: -0.9607 - mean_iou: 0.8878 - val_loss: -0.8868 - val_mean_iou: 0.8880\n",
      "Epoch 210/400\n",
      "650/650 [==============================] - 14s 22ms/step - loss: -0.9608 - mean_iou: 0.8881 - val_loss: -0.8863 - val_mean_iou: 0.8882\n",
      "Epoch 211/400\n",
      "650/650 [==============================] - 14s 22ms/step - loss: -0.9612 - mean_iou: 0.8883 - val_loss: -0.8851 - val_mean_iou: 0.8885\n",
      "Epoch 212/400\n",
      "650/650 [==============================] - 14s 22ms/step - loss: -0.9627 - mean_iou: 0.8886 - val_loss: -0.8842 - val_mean_iou: 0.8887\n",
      "Epoch 213/400\n",
      "650/650 [==============================] - 14s 22ms/step - loss: -0.9623 - mean_iou: 0.8889 - val_loss: -0.8840 - val_mean_iou: 0.8890\n",
      "Epoch 214/400\n",
      "650/650 [==============================] - 14s 22ms/step - loss: -0.9630 - mean_iou: 0.8891 - val_loss: -0.8862 - val_mean_iou: 0.8893\n",
      "Epoch 215/400\n",
      "650/650 [==============================] - 14s 22ms/step - loss: -0.9634 - mean_iou: 0.8894 - val_loss: -0.8851 - val_mean_iou: 0.8895\n",
      "Epoch 216/400\n",
      "650/650 [==============================] - 14s 22ms/step - loss: -0.9627 - mean_iou: 0.8897 - val_loss: -0.8871 - val_mean_iou: 0.8898\n",
      "Epoch 217/400\n",
      "650/650 [==============================] - 14s 22ms/step - loss: -0.9627 - mean_iou: 0.8899 - val_loss: -0.8837 - val_mean_iou: 0.8900\n",
      "Epoch 218/400\n",
      "650/650 [==============================] - 14s 22ms/step - loss: -0.9635 - mean_iou: 0.8902 - val_loss: -0.8880 - val_mean_iou: 0.8903\n",
      "Epoch 219/400\n",
      "650/650 [==============================] - 14s 22ms/step - loss: -0.9629 - mean_iou: 0.8904 - val_loss: -0.8844 - val_mean_iou: 0.8906\n",
      "Epoch 220/400\n",
      "650/650 [==============================] - 14s 22ms/step - loss: -0.9633 - mean_iou: 0.8907 - val_loss: -0.8861 - val_mean_iou: 0.8908\n",
      "Epoch 221/400\n"
     ]
    },
    {
     "name": "stdout",
     "output_type": "stream",
     "text": [
      "650/650 [==============================] - 14s 21ms/step - loss: -0.9640 - mean_iou: 0.8909 - val_loss: -0.8877 - val_mean_iou: 0.8911\n",
      "Epoch 222/400\n",
      "650/650 [==============================] - 14s 22ms/step - loss: -0.9645 - mean_iou: 0.8912 - val_loss: -0.8859 - val_mean_iou: 0.8913\n",
      "Epoch 223/400\n",
      "650/650 [==============================] - 14s 22ms/step - loss: -0.9638 - mean_iou: 0.8914 - val_loss: -0.8868 - val_mean_iou: 0.8916\n",
      "Epoch 224/400\n",
      "650/650 [==============================] - 14s 21ms/step - loss: -0.9631 - mean_iou: 0.8917 - val_loss: -0.8863 - val_mean_iou: 0.8918\n",
      "Epoch 225/400\n",
      "650/650 [==============================] - 14s 22ms/step - loss: -0.9634 - mean_iou: 0.8919 - val_loss: -0.8878 - val_mean_iou: 0.8920\n",
      "Epoch 226/400\n",
      "650/650 [==============================] - 14s 22ms/step - loss: -0.9645 - mean_iou: 0.8922 - val_loss: -0.8879 - val_mean_iou: 0.8923\n",
      "Epoch 227/400\n",
      "650/650 [==============================] - 14s 22ms/step - loss: -0.9628 - mean_iou: 0.8924 - val_loss: -0.8842 - val_mean_iou: 0.8925\n",
      "Epoch 228/400\n",
      "650/650 [==============================] - 14s 22ms/step - loss: -0.9639 - mean_iou: 0.8926 - val_loss: -0.8871 - val_mean_iou: 0.8927\n",
      "Epoch 229/400\n",
      "650/650 [==============================] - 14s 22ms/step - loss: -0.9646 - mean_iou: 0.8929 - val_loss: -0.8850 - val_mean_iou: 0.8930\n",
      "Epoch 230/400\n",
      "650/650 [==============================] - 14s 22ms/step - loss: -0.9647 - mean_iou: 0.8931 - val_loss: -0.8847 - val_mean_iou: 0.8932\n",
      "Epoch 231/400\n",
      "650/650 [==============================] - 14s 21ms/step - loss: -0.9652 - mean_iou: 0.8933 - val_loss: -0.8842 - val_mean_iou: 0.8935\n",
      "Epoch 232/400\n",
      "650/650 [==============================] - 14s 22ms/step - loss: -0.9658 - mean_iou: 0.8936 - val_loss: -0.8876 - val_mean_iou: 0.8937\n",
      "Epoch 233/400\n",
      "650/650 [==============================] - 14s 22ms/step - loss: -0.9635 - mean_iou: 0.8938 - val_loss: -0.8890 - val_mean_iou: 0.8939\n",
      "Epoch 234/400\n",
      "650/650 [==============================] - 14s 22ms/step - loss: -0.9630 - mean_iou: 0.8940 - val_loss: -0.8829 - val_mean_iou: 0.8941\n",
      "Epoch 235/400\n",
      "650/650 [==============================] - 14s 22ms/step - loss: -0.9622 - mean_iou: 0.8942 - val_loss: -0.8865 - val_mean_iou: 0.8944\n",
      "Epoch 236/400\n",
      "650/650 [==============================] - 14s 22ms/step - loss: -0.9641 - mean_iou: 0.8945 - val_loss: -0.8874 - val_mean_iou: 0.8946\n",
      "Epoch 237/400\n",
      "650/650 [==============================] - 14s 21ms/step - loss: -0.9647 - mean_iou: 0.8947 - val_loss: -0.8864 - val_mean_iou: 0.8948\n",
      "Epoch 238/400\n",
      "650/650 [==============================] - 14s 22ms/step - loss: -0.9658 - mean_iou: 0.8949 - val_loss: -0.8867 - val_mean_iou: 0.8950\n",
      "Epoch 239/400\n",
      "650/650 [==============================] - 14s 22ms/step - loss: -0.9660 - mean_iou: 0.8951 - val_loss: -0.8859 - val_mean_iou: 0.8953\n",
      "Epoch 240/400\n",
      "650/650 [==============================] - 14s 22ms/step - loss: -0.9656 - mean_iou: 0.8954 - val_loss: -0.8849 - val_mean_iou: 0.8955\n",
      "Epoch 241/400\n",
      "650/650 [==============================] - 14s 22ms/step - loss: -0.9657 - mean_iou: 0.8956 - val_loss: -0.8855 - val_mean_iou: 0.8957\n",
      "Epoch 242/400\n",
      "650/650 [==============================] - 14s 22ms/step - loss: -0.9660 - mean_iou: 0.8958 - val_loss: -0.8853 - val_mean_iou: 0.8959\n",
      "Epoch 243/400\n",
      "650/650 [==============================] - 14s 22ms/step - loss: -0.9663 - mean_iou: 0.8960 - val_loss: -0.8888 - val_mean_iou: 0.8961\n",
      "Epoch 244/400\n",
      "650/650 [==============================] - 14s 22ms/step - loss: -0.9664 - mean_iou: 0.8962 - val_loss: -0.8862 - val_mean_iou: 0.8963\n",
      "Epoch 245/400\n",
      "650/650 [==============================] - 14s 22ms/step - loss: -0.9660 - mean_iou: 0.8964 - val_loss: -0.8861 - val_mean_iou: 0.8966\n",
      "Epoch 246/400\n",
      "650/650 [==============================] - 14s 22ms/step - loss: -0.9661 - mean_iou: 0.8967 - val_loss: -0.8852 - val_mean_iou: 0.8968\n",
      "Epoch 247/400\n",
      "650/650 [==============================] - 14s 22ms/step - loss: -0.9654 - mean_iou: 0.8969 - val_loss: -0.8878 - val_mean_iou: 0.8970\n",
      "Epoch 248/400\n",
      "650/650 [==============================] - 14s 22ms/step - loss: -0.9655 - mean_iou: 0.8971 - val_loss: -0.8877 - val_mean_iou: 0.8972\n",
      "Epoch 249/400\n",
      "650/650 [==============================] - 14s 22ms/step - loss: -0.9664 - mean_iou: 0.8973 - val_loss: -0.8882 - val_mean_iou: 0.8974\n",
      "Epoch 250/400\n",
      "650/650 [==============================] - 14s 22ms/step - loss: -0.9669 - mean_iou: 0.8975 - val_loss: -0.8908 - val_mean_iou: 0.8976\n",
      "Epoch 251/400\n",
      "650/650 [==============================] - 14s 22ms/step - loss: -0.9671 - mean_iou: 0.8977 - val_loss: -0.8882 - val_mean_iou: 0.8978\n",
      "Epoch 252/400\n",
      "650/650 [==============================] - 14s 21ms/step - loss: -0.9675 - mean_iou: 0.8979 - val_loss: -0.8864 - val_mean_iou: 0.8980\n",
      "Epoch 253/400\n",
      "650/650 [==============================] - 14s 21ms/step - loss: -0.9676 - mean_iou: 0.8981 - val_loss: -0.8882 - val_mean_iou: 0.8982\n",
      "Epoch 254/400\n",
      "650/650 [==============================] - 14s 22ms/step - loss: -0.9673 - mean_iou: 0.8983 - val_loss: -0.8835 - val_mean_iou: 0.8984\n",
      "Epoch 255/400\n",
      "650/650 [==============================] - 14s 21ms/step - loss: -0.9669 - mean_iou: 0.8985 - val_loss: -0.8853 - val_mean_iou: 0.8986\n",
      "Epoch 256/400\n",
      "650/650 [==============================] - 14s 22ms/step - loss: -0.9653 - mean_iou: 0.8987 - val_loss: -0.8903 - val_mean_iou: 0.8988\n",
      "Epoch 257/400\n",
      "650/650 [==============================] - 14s 21ms/step - loss: -0.9666 - mean_iou: 0.8989 - val_loss: -0.8846 - val_mean_iou: 0.8990\n",
      "Epoch 258/400\n",
      "650/650 [==============================] - 14s 22ms/step - loss: -0.9672 - mean_iou: 0.8991 - val_loss: -0.8873 - val_mean_iou: 0.8992\n",
      "Epoch 259/400\n",
      "650/650 [==============================] - 14s 22ms/step - loss: -0.9665 - mean_iou: 0.8993 - val_loss: -0.8867 - val_mean_iou: 0.8994\n",
      "Epoch 260/400\n",
      "650/650 [==============================] - 14s 22ms/step - loss: -0.9675 - mean_iou: 0.8995 - val_loss: -0.8857 - val_mean_iou: 0.8996\n",
      "Epoch 261/400\n",
      "650/650 [==============================] - 14s 22ms/step - loss: -0.9676 - mean_iou: 0.8997 - val_loss: -0.8869 - val_mean_iou: 0.8998\n",
      "Epoch 262/400\n",
      "650/650 [==============================] - 14s 22ms/step - loss: -0.9676 - mean_iou: 0.8999 - val_loss: -0.8864 - val_mean_iou: 0.9000\n",
      "Epoch 263/400\n",
      "650/650 [==============================] - 14s 22ms/step - loss: -0.9661 - mean_iou: 0.9001 - val_loss: -0.8882 - val_mean_iou: 0.9002\n",
      "Epoch 264/400\n",
      "650/650 [==============================] - 14s 22ms/step - loss: -0.9650 - mean_iou: 0.9003 - val_loss: -0.8861 - val_mean_iou: 0.9004\n",
      "Epoch 265/400\n",
      "650/650 [==============================] - 14s 22ms/step - loss: -0.9659 - mean_iou: 0.9004 - val_loss: -0.8880 - val_mean_iou: 0.9005\n",
      "Epoch 266/400\n",
      "650/650 [==============================] - 14s 22ms/step - loss: -0.9675 - mean_iou: 0.9006 - val_loss: -0.8867 - val_mean_iou: 0.9007\n",
      "Epoch 267/400\n",
      "650/650 [==============================] - 14s 22ms/step - loss: -0.9679 - mean_iou: 0.9008 - val_loss: -0.8851 - val_mean_iou: 0.9009\n",
      "Epoch 268/400\n",
      "650/650 [==============================] - 14s 22ms/step - loss: -0.9677 - mean_iou: 0.9010 - val_loss: -0.8880 - val_mean_iou: 0.9011\n",
      "Epoch 269/400\n",
      "650/650 [==============================] - 14s 22ms/step - loss: -0.9683 - mean_iou: 0.9012 - val_loss: -0.8859 - val_mean_iou: 0.9013\n",
      "Epoch 270/400\n",
      "650/650 [==============================] - 14s 22ms/step - loss: -0.9687 - mean_iou: 0.9014 - val_loss: -0.8885 - val_mean_iou: 0.9015\n",
      "Epoch 271/400\n",
      "650/650 [==============================] - 14s 22ms/step - loss: -0.9687 - mean_iou: 0.9015 - val_loss: -0.8868 - val_mean_iou: 0.9016\n",
      "Epoch 272/400\n",
      "650/650 [==============================] - 14s 22ms/step - loss: -0.9690 - mean_iou: 0.9017 - val_loss: -0.8861 - val_mean_iou: 0.9018\n",
      "Epoch 273/400\n",
      "650/650 [==============================] - 14s 22ms/step - loss: -0.9690 - mean_iou: 0.9019 - val_loss: -0.8879 - val_mean_iou: 0.9020\n",
      "Epoch 274/400\n",
      "650/650 [==============================] - 14s 21ms/step - loss: -0.9687 - mean_iou: 0.9021 - val_loss: -0.8889 - val_mean_iou: 0.9022\n",
      "Epoch 275/400\n",
      "650/650 [==============================] - 14s 21ms/step - loss: -0.9688 - mean_iou: 0.9023 - val_loss: -0.8866 - val_mean_iou: 0.9024\n",
      "Epoch 276/400\n"
     ]
    },
    {
     "name": "stdout",
     "output_type": "stream",
     "text": [
      "650/650 [==============================] - 14s 22ms/step - loss: -0.9686 - mean_iou: 0.9025 - val_loss: -0.8848 - val_mean_iou: 0.9025\n",
      "Epoch 277/400\n",
      "650/650 [==============================] - 14s 22ms/step - loss: -0.9690 - mean_iou: 0.9026 - val_loss: -0.8886 - val_mean_iou: 0.9027\n",
      "Epoch 278/400\n",
      "650/650 [==============================] - 14s 22ms/step - loss: -0.9688 - mean_iou: 0.9028 - val_loss: -0.8822 - val_mean_iou: 0.9029\n",
      "Epoch 279/400\n",
      "650/650 [==============================] - 14s 22ms/step - loss: -0.9679 - mean_iou: 0.9030 - val_loss: -0.8857 - val_mean_iou: 0.9031\n",
      "Epoch 280/400\n",
      "650/650 [==============================] - 14s 22ms/step - loss: -0.9684 - mean_iou: 0.9032 - val_loss: -0.8878 - val_mean_iou: 0.9032\n",
      "Epoch 281/400\n",
      "650/650 [==============================] - 14s 22ms/step - loss: -0.9685 - mean_iou: 0.9033 - val_loss: -0.8862 - val_mean_iou: 0.9034\n",
      "Epoch 282/400\n",
      "650/650 [==============================] - 14s 22ms/step - loss: -0.9682 - mean_iou: 0.9035 - val_loss: -0.8839 - val_mean_iou: 0.9036\n",
      "Epoch 283/400\n",
      "650/650 [==============================] - 14s 22ms/step - loss: -0.9678 - mean_iou: 0.9037 - val_loss: -0.8889 - val_mean_iou: 0.9038\n",
      "Epoch 284/400\n",
      "650/650 [==============================] - 14s 22ms/step - loss: -0.9674 - mean_iou: 0.9038 - val_loss: -0.8854 - val_mean_iou: 0.9039\n",
      "Epoch 285/400\n",
      "650/650 [==============================] - 14s 22ms/step - loss: -0.9674 - mean_iou: 0.9040 - val_loss: -0.8851 - val_mean_iou: 0.9041\n",
      "Epoch 286/400\n",
      "650/650 [==============================] - 14s 21ms/step - loss: -0.9676 - mean_iou: 0.9042 - val_loss: -0.8854 - val_mean_iou: 0.9042\n",
      "Epoch 287/400\n",
      "650/650 [==============================] - 14s 21ms/step - loss: -0.9689 - mean_iou: 0.9043 - val_loss: -0.8838 - val_mean_iou: 0.9044\n",
      "Epoch 288/400\n",
      "650/650 [==============================] - 14s 22ms/step - loss: -0.9685 - mean_iou: 0.9045 - val_loss: -0.8840 - val_mean_iou: 0.9046\n",
      "Epoch 289/400\n",
      "650/650 [==============================] - 14s 22ms/step - loss: -0.9691 - mean_iou: 0.9046 - val_loss: -0.8876 - val_mean_iou: 0.9047\n",
      "Epoch 290/400\n",
      "650/650 [==============================] - 14s 22ms/step - loss: -0.9699 - mean_iou: 0.9048 - val_loss: -0.8868 - val_mean_iou: 0.9049\n",
      "Epoch 291/400\n",
      "650/650 [==============================] - 14s 22ms/step - loss: -0.9691 - mean_iou: 0.9050 - val_loss: -0.8863 - val_mean_iou: 0.9051\n",
      "Epoch 292/400\n",
      "650/650 [==============================] - 14s 22ms/step - loss: -0.9684 - mean_iou: 0.9051 - val_loss: -0.8849 - val_mean_iou: 0.9052\n",
      "Epoch 293/400\n",
      "650/650 [==============================] - 14s 22ms/step - loss: -0.9695 - mean_iou: 0.9053 - val_loss: -0.8860 - val_mean_iou: 0.9054\n",
      "Epoch 294/400\n",
      "650/650 [==============================] - 14s 21ms/step - loss: -0.9689 - mean_iou: 0.9055 - val_loss: -0.8872 - val_mean_iou: 0.9055\n",
      "Epoch 295/400\n",
      "650/650 [==============================] - 14s 21ms/step - loss: -0.9691 - mean_iou: 0.9056 - val_loss: -0.8875 - val_mean_iou: 0.9057\n",
      "Epoch 296/400\n",
      "650/650 [==============================] - 14s 22ms/step - loss: -0.9702 - mean_iou: 0.9058 - val_loss: -0.8879 - val_mean_iou: 0.9058\n",
      "Epoch 297/400\n",
      "650/650 [==============================] - 14s 21ms/step - loss: -0.9699 - mean_iou: 0.9059 - val_loss: -0.8878 - val_mean_iou: 0.9060\n",
      "Epoch 298/400\n",
      "650/650 [==============================] - 14s 22ms/step - loss: -0.9696 - mean_iou: 0.9061 - val_loss: -0.8846 - val_mean_iou: 0.9062\n",
      "Epoch 299/400\n",
      "650/650 [==============================] - 14s 22ms/step - loss: -0.9698 - mean_iou: 0.9062 - val_loss: -0.8845 - val_mean_iou: 0.9063\n",
      "Epoch 300/400\n",
      "650/650 [==============================] - 14s 22ms/step - loss: -0.9696 - mean_iou: 0.9064 - val_loss: -0.8843 - val_mean_iou: 0.9065\n",
      "Epoch 301/400\n",
      "650/650 [==============================] - 14s 22ms/step - loss: -0.9694 - mean_iou: 0.9065 - val_loss: -0.8851 - val_mean_iou: 0.9066\n",
      "Epoch 302/400\n",
      "650/650 [==============================] - 14s 21ms/step - loss: -0.9700 - mean_iou: 0.9067 - val_loss: -0.8842 - val_mean_iou: 0.9068\n",
      "Epoch 303/400\n",
      "650/650 [==============================] - 14s 21ms/step - loss: -0.9700 - mean_iou: 0.9068 - val_loss: -0.8841 - val_mean_iou: 0.9069\n",
      "Epoch 304/400\n",
      "650/650 [==============================] - 14s 22ms/step - loss: -0.9671 - mean_iou: 0.9070 - val_loss: -0.8864 - val_mean_iou: 0.9071\n",
      "Epoch 305/400\n",
      "650/650 [==============================] - 14s 22ms/step - loss: -0.9663 - mean_iou: 0.9071 - val_loss: -0.8832 - val_mean_iou: 0.9072\n",
      "Epoch 306/400\n",
      "650/650 [==============================] - 14s 21ms/step - loss: -0.9618 - mean_iou: 0.9073 - val_loss: -0.8920 - val_mean_iou: 0.9073\n",
      "Epoch 307/400\n",
      "650/650 [==============================] - 14s 22ms/step - loss: -0.9653 - mean_iou: 0.9074 - val_loss: -0.8861 - val_mean_iou: 0.9075\n",
      "Epoch 308/400\n",
      "650/650 [==============================] - 14s 21ms/step - loss: -0.9674 - mean_iou: 0.9075 - val_loss: -0.8852 - val_mean_iou: 0.9076\n",
      "Epoch 309/400\n",
      "650/650 [==============================] - 14s 21ms/step - loss: -0.9686 - mean_iou: 0.9077 - val_loss: -0.8842 - val_mean_iou: 0.9078\n",
      "Epoch 310/400\n",
      "650/650 [==============================] - 14s 21ms/step - loss: -0.9695 - mean_iou: 0.9078 - val_loss: -0.8845 - val_mean_iou: 0.9079\n",
      "Epoch 311/400\n",
      "650/650 [==============================] - 14s 21ms/step - loss: -0.9706 - mean_iou: 0.9080 - val_loss: -0.8864 - val_mean_iou: 0.9080\n",
      "Epoch 312/400\n",
      "650/650 [==============================] - 14s 21ms/step - loss: -0.9702 - mean_iou: 0.9081 - val_loss: -0.8876 - val_mean_iou: 0.9082\n",
      "Epoch 313/400\n",
      "650/650 [==============================] - 14s 22ms/step - loss: -0.9695 - mean_iou: 0.9083 - val_loss: -0.8836 - val_mean_iou: 0.9083\n",
      "Epoch 314/400\n",
      "650/650 [==============================] - 14s 21ms/step - loss: -0.9687 - mean_iou: 0.9084 - val_loss: -0.8863 - val_mean_iou: 0.9085\n",
      "Epoch 315/400\n",
      "650/650 [==============================] - 14s 22ms/step - loss: -0.9689 - mean_iou: 0.9085 - val_loss: -0.8842 - val_mean_iou: 0.9086\n",
      "Epoch 316/400\n",
      "650/650 [==============================] - 14s 21ms/step - loss: -0.9699 - mean_iou: 0.9087 - val_loss: -0.8893 - val_mean_iou: 0.9087\n",
      "Epoch 317/400\n",
      "650/650 [==============================] - 14s 22ms/step - loss: -0.9710 - mean_iou: 0.9088 - val_loss: -0.8863 - val_mean_iou: 0.9089\n",
      "Epoch 318/400\n",
      "650/650 [==============================] - 14s 22ms/step - loss: -0.9710 - mean_iou: 0.9090 - val_loss: -0.8877 - val_mean_iou: 0.9090\n",
      "Epoch 319/400\n",
      "650/650 [==============================] - 14s 21ms/step - loss: -0.9704 - mean_iou: 0.9091 - val_loss: -0.8845 - val_mean_iou: 0.9092\n",
      "Epoch 320/400\n",
      "650/650 [==============================] - 14s 22ms/step - loss: -0.9675 - mean_iou: 0.9092 - val_loss: -0.8851 - val_mean_iou: 0.9093\n",
      "Epoch 321/400\n",
      "650/650 [==============================] - 14s 22ms/step - loss: -0.9669 - mean_iou: 0.9094 - val_loss: -0.8833 - val_mean_iou: 0.9094\n",
      "Epoch 322/400\n",
      "650/650 [==============================] - 14s 22ms/step - loss: -0.9689 - mean_iou: 0.9095 - val_loss: -0.8850 - val_mean_iou: 0.9096\n",
      "Epoch 323/400\n",
      "650/650 [==============================] - 14s 21ms/step - loss: -0.9705 - mean_iou: 0.9096 - val_loss: -0.8895 - val_mean_iou: 0.9097\n",
      "Epoch 324/400\n",
      "650/650 [==============================] - 14s 21ms/step - loss: -0.9709 - mean_iou: 0.9098 - val_loss: -0.8862 - val_mean_iou: 0.9098\n",
      "Epoch 325/400\n",
      "650/650 [==============================] - 14s 22ms/step - loss: -0.9704 - mean_iou: 0.9099 - val_loss: -0.8849 - val_mean_iou: 0.9100\n",
      "Epoch 326/400\n",
      "650/650 [==============================] - 14s 22ms/step - loss: -0.9706 - mean_iou: 0.9100 - val_loss: -0.8868 - val_mean_iou: 0.9101\n",
      "Epoch 327/400\n",
      "650/650 [==============================] - 14s 21ms/step - loss: -0.9710 - mean_iou: 0.9102 - val_loss: -0.8869 - val_mean_iou: 0.9102\n",
      "Epoch 328/400\n",
      "650/650 [==============================] - 14s 21ms/step - loss: -0.9712 - mean_iou: 0.9103 - val_loss: -0.8875 - val_mean_iou: 0.9104\n",
      "Epoch 329/400\n",
      "650/650 [==============================] - 14s 21ms/step - loss: -0.9706 - mean_iou: 0.9104 - val_loss: -0.8870 - val_mean_iou: 0.9105\n",
      "Epoch 330/400\n",
      "650/650 [==============================] - 14s 22ms/step - loss: -0.9707 - mean_iou: 0.9106 - val_loss: -0.8834 - val_mean_iou: 0.9106\n",
      "Epoch 331/400\n"
     ]
    },
    {
     "name": "stdout",
     "output_type": "stream",
     "text": [
      "650/650 [==============================] - 14s 21ms/step - loss: -0.9710 - mean_iou: 0.9107 - val_loss: -0.8893 - val_mean_iou: 0.9108\n",
      "Epoch 332/400\n",
      "650/650 [==============================] - 14s 21ms/step - loss: -0.9711 - mean_iou: 0.9108 - val_loss: -0.8864 - val_mean_iou: 0.9109\n",
      "Epoch 333/400\n",
      "650/650 [==============================] - 14s 22ms/step - loss: -0.9711 - mean_iou: 0.9110 - val_loss: -0.8850 - val_mean_iou: 0.9110\n",
      "Epoch 334/400\n",
      "650/650 [==============================] - 14s 22ms/step - loss: -0.9708 - mean_iou: 0.9111 - val_loss: -0.8842 - val_mean_iou: 0.9111\n",
      "Epoch 335/400\n",
      "650/650 [==============================] - 14s 21ms/step - loss: -0.9698 - mean_iou: 0.9112 - val_loss: -0.8870 - val_mean_iou: 0.9113\n",
      "Epoch 336/400\n",
      "650/650 [==============================] - 14s 21ms/step - loss: -0.9712 - mean_iou: 0.9113 - val_loss: -0.8880 - val_mean_iou: 0.9114\n",
      "Epoch 337/400\n",
      "650/650 [==============================] - 14s 21ms/step - loss: -0.9717 - mean_iou: 0.9115 - val_loss: -0.8836 - val_mean_iou: 0.9115\n",
      "Epoch 338/400\n",
      "650/650 [==============================] - 14s 21ms/step - loss: -0.9718 - mean_iou: 0.9116 - val_loss: -0.8879 - val_mean_iou: 0.9117\n",
      "Epoch 339/400\n",
      "650/650 [==============================] - 14s 22ms/step - loss: -0.9711 - mean_iou: 0.9117 - val_loss: -0.8875 - val_mean_iou: 0.9118\n",
      "Epoch 340/400\n",
      "650/650 [==============================] - 14s 22ms/step - loss: -0.9712 - mean_iou: 0.9118 - val_loss: -0.8872 - val_mean_iou: 0.9119\n",
      "Epoch 341/400\n",
      "650/650 [==============================] - 14s 21ms/step - loss: -0.9715 - mean_iou: 0.9120 - val_loss: -0.8876 - val_mean_iou: 0.9120\n",
      "Epoch 342/400\n",
      "650/650 [==============================] - 14s 21ms/step - loss: -0.9723 - mean_iou: 0.9121 - val_loss: -0.8878 - val_mean_iou: 0.9122\n",
      "Epoch 343/400\n",
      "650/650 [==============================] - 14s 21ms/step - loss: -0.9715 - mean_iou: 0.9122 - val_loss: -0.8825 - val_mean_iou: 0.9123\n",
      "Epoch 344/400\n",
      "650/650 [==============================] - 14s 21ms/step - loss: -0.9698 - mean_iou: 0.9123 - val_loss: -0.8864 - val_mean_iou: 0.9124\n",
      "Epoch 345/400\n",
      "650/650 [==============================] - 14s 21ms/step - loss: -0.9708 - mean_iou: 0.9125 - val_loss: -0.8880 - val_mean_iou: 0.9125\n",
      "Epoch 346/400\n",
      "650/650 [==============================] - 14s 21ms/step - loss: -0.9711 - mean_iou: 0.9126 - val_loss: -0.8835 - val_mean_iou: 0.9126\n",
      "Epoch 347/400\n",
      "650/650 [==============================] - 14s 22ms/step - loss: -0.9716 - mean_iou: 0.9127 - val_loss: -0.8857 - val_mean_iou: 0.9128\n",
      "Epoch 348/400\n",
      "650/650 [==============================] - 14s 22ms/step - loss: -0.9716 - mean_iou: 0.9128 - val_loss: -0.8866 - val_mean_iou: 0.9129\n",
      "Epoch 349/400\n",
      "650/650 [==============================] - 14s 21ms/step - loss: -0.9718 - mean_iou: 0.9129 - val_loss: -0.8848 - val_mean_iou: 0.9130\n",
      "Epoch 350/400\n",
      "650/650 [==============================] - 14s 21ms/step - loss: -0.9724 - mean_iou: 0.9131 - val_loss: -0.8854 - val_mean_iou: 0.9131\n",
      "Epoch 351/400\n",
      "650/650 [==============================] - 14s 22ms/step - loss: -0.9718 - mean_iou: 0.9132 - val_loss: -0.8865 - val_mean_iou: 0.9132\n",
      "Epoch 352/400\n",
      "650/650 [==============================] - 14s 22ms/step - loss: -0.9723 - mean_iou: 0.9133 - val_loss: -0.8856 - val_mean_iou: 0.9134\n",
      "Epoch 353/400\n",
      "650/650 [==============================] - 14s 22ms/step - loss: -0.9723 - mean_iou: 0.9134 - val_loss: -0.8872 - val_mean_iou: 0.9135\n",
      "Epoch 354/400\n",
      "650/650 [==============================] - 14s 22ms/step - loss: -0.9726 - mean_iou: 0.9135 - val_loss: -0.8860 - val_mean_iou: 0.9136\n",
      "Epoch 355/400\n",
      "650/650 [==============================] - 14s 22ms/step - loss: -0.9725 - mean_iou: 0.9137 - val_loss: -0.8875 - val_mean_iou: 0.9137\n",
      "Epoch 356/400\n",
      "650/650 [==============================] - 14s 22ms/step - loss: -0.9725 - mean_iou: 0.9138 - val_loss: -0.8856 - val_mean_iou: 0.9138\n",
      "Epoch 357/400\n",
      "650/650 [==============================] - 14s 22ms/step - loss: -0.9725 - mean_iou: 0.9139 - val_loss: -0.8870 - val_mean_iou: 0.9139\n",
      "Epoch 358/400\n",
      "650/650 [==============================] - 14s 21ms/step - loss: -0.9724 - mean_iou: 0.9140 - val_loss: -0.8859 - val_mean_iou: 0.9141\n",
      "Epoch 359/400\n",
      "650/650 [==============================] - 14s 21ms/step - loss: -0.9724 - mean_iou: 0.9141 - val_loss: -0.8874 - val_mean_iou: 0.9142\n",
      "Epoch 360/400\n",
      "650/650 [==============================] - 14s 22ms/step - loss: -0.9727 - mean_iou: 0.9142 - val_loss: -0.8865 - val_mean_iou: 0.9143\n",
      "Epoch 361/400\n",
      "650/650 [==============================] - 14s 22ms/step - loss: -0.9724 - mean_iou: 0.9143 - val_loss: -0.8851 - val_mean_iou: 0.9144\n",
      "Epoch 362/400\n",
      "650/650 [==============================] - 14s 21ms/step - loss: -0.9715 - mean_iou: 0.9145 - val_loss: -0.8841 - val_mean_iou: 0.9145\n",
      "Epoch 363/400\n",
      "650/650 [==============================] - 14s 21ms/step - loss: -0.9720 - mean_iou: 0.9146 - val_loss: -0.8870 - val_mean_iou: 0.9146\n",
      "Epoch 364/400\n",
      "650/650 [==============================] - 14s 21ms/step - loss: -0.9714 - mean_iou: 0.9147 - val_loss: -0.8855 - val_mean_iou: 0.9147\n",
      "Epoch 365/400\n",
      "650/650 [==============================] - 14s 22ms/step - loss: -0.9718 - mean_iou: 0.9148 - val_loss: -0.8891 - val_mean_iou: 0.9149\n",
      "Epoch 366/400\n",
      "650/650 [==============================] - 14s 22ms/step - loss: -0.9710 - mean_iou: 0.9149 - val_loss: -0.8858 - val_mean_iou: 0.9150\n",
      "Epoch 367/400\n",
      "650/650 [==============================] - 14s 21ms/step - loss: -0.9716 - mean_iou: 0.9150 - val_loss: -0.8855 - val_mean_iou: 0.9151\n",
      "Epoch 368/400\n",
      "650/650 [==============================] - 14s 21ms/step - loss: -0.9711 - mean_iou: 0.9151 - val_loss: -0.8865 - val_mean_iou: 0.9152\n",
      "Epoch 369/400\n",
      "650/650 [==============================] - 14s 21ms/step - loss: -0.9725 - mean_iou: 0.9152 - val_loss: -0.8841 - val_mean_iou: 0.9153\n",
      "Epoch 370/400\n",
      "650/650 [==============================] - 14s 22ms/step - loss: -0.9724 - mean_iou: 0.9153 - val_loss: -0.8875 - val_mean_iou: 0.9154\n",
      "Epoch 371/400\n",
      "650/650 [==============================] - 14s 22ms/step - loss: -0.9720 - mean_iou: 0.9154 - val_loss: -0.8854 - val_mean_iou: 0.9155\n",
      "Epoch 372/400\n",
      "650/650 [==============================] - 14s 21ms/step - loss: -0.9721 - mean_iou: 0.9155 - val_loss: -0.8859 - val_mean_iou: 0.9156\n",
      "Epoch 373/400\n",
      "650/650 [==============================] - 14s 21ms/step - loss: -0.9726 - mean_iou: 0.9157 - val_loss: -0.8842 - val_mean_iou: 0.9157\n",
      "Epoch 374/400\n",
      "650/650 [==============================] - 14s 21ms/step - loss: -0.9718 - mean_iou: 0.9158 - val_loss: -0.8877 - val_mean_iou: 0.9158\n",
      "Epoch 375/400\n",
      "650/650 [==============================] - 14s 21ms/step - loss: -0.9717 - mean_iou: 0.9159 - val_loss: -0.8860 - val_mean_iou: 0.9159\n",
      "Epoch 376/400\n",
      "650/650 [==============================] - 14s 21ms/step - loss: -0.9720 - mean_iou: 0.9160 - val_loss: -0.8861 - val_mean_iou: 0.9160\n",
      "Epoch 377/400\n",
      "650/650 [==============================] - 14s 21ms/step - loss: -0.9726 - mean_iou: 0.9161 - val_loss: -0.8884 - val_mean_iou: 0.9161\n",
      "Epoch 378/400\n",
      "650/650 [==============================] - 14s 22ms/step - loss: -0.9733 - mean_iou: 0.9162 - val_loss: -0.8882 - val_mean_iou: 0.9162\n",
      "Epoch 379/400\n",
      "650/650 [==============================] - 14s 21ms/step - loss: -0.9729 - mean_iou: 0.9163 - val_loss: -0.8856 - val_mean_iou: 0.9163\n",
      "Epoch 380/400\n",
      "650/650 [==============================] - 14s 21ms/step - loss: -0.9730 - mean_iou: 0.9164 - val_loss: -0.8863 - val_mean_iou: 0.9164\n",
      "Epoch 381/400\n",
      "650/650 [==============================] - 14s 22ms/step - loss: -0.9720 - mean_iou: 0.9165 - val_loss: -0.8867 - val_mean_iou: 0.9165\n",
      "Epoch 382/400\n",
      "650/650 [==============================] - 14s 21ms/step - loss: -0.9714 - mean_iou: 0.9166 - val_loss: -0.8856 - val_mean_iou: 0.9166\n",
      "Epoch 383/400\n",
      "650/650 [==============================] - 14s 22ms/step - loss: -0.9724 - mean_iou: 0.9167 - val_loss: -0.8840 - val_mean_iou: 0.9167\n",
      "Epoch 384/400\n",
      "650/650 [==============================] - 14s 21ms/step - loss: -0.9725 - mean_iou: 0.9168 - val_loss: -0.8877 - val_mean_iou: 0.9168\n",
      "Epoch 385/400\n",
      "650/650 [==============================] - 14s 21ms/step - loss: -0.9728 - mean_iou: 0.9169 - val_loss: -0.8898 - val_mean_iou: 0.9170\n",
      "Epoch 386/400\n"
     ]
    },
    {
     "name": "stdout",
     "output_type": "stream",
     "text": [
      "650/650 [==============================] - 14s 21ms/step - loss: -0.9729 - mean_iou: 0.9170 - val_loss: -0.8839 - val_mean_iou: 0.9171\n",
      "Epoch 387/400\n",
      "650/650 [==============================] - 14s 22ms/step - loss: -0.9728 - mean_iou: 0.9171 - val_loss: -0.8869 - val_mean_iou: 0.9172\n",
      "Epoch 388/400\n",
      "650/650 [==============================] - 14s 22ms/step - loss: -0.9716 - mean_iou: 0.9172 - val_loss: -0.8850 - val_mean_iou: 0.9172\n",
      "Epoch 389/400\n",
      "650/650 [==============================] - 14s 21ms/step - loss: -0.9726 - mean_iou: 0.9173 - val_loss: -0.8859 - val_mean_iou: 0.9173\n",
      "Epoch 390/400\n",
      "650/650 [==============================] - 14s 21ms/step - loss: -0.9731 - mean_iou: 0.9174 - val_loss: -0.8876 - val_mean_iou: 0.9174\n",
      "Epoch 391/400\n",
      "650/650 [==============================] - 14s 21ms/step - loss: -0.9730 - mean_iou: 0.9175 - val_loss: -0.8847 - val_mean_iou: 0.9175\n",
      "Epoch 392/400\n",
      "650/650 [==============================] - 14s 21ms/step - loss: -0.9730 - mean_iou: 0.9176 - val_loss: -0.8843 - val_mean_iou: 0.9176\n",
      "Epoch 393/400\n",
      "650/650 [==============================] - 14s 21ms/step - loss: -0.9730 - mean_iou: 0.9177 - val_loss: -0.8872 - val_mean_iou: 0.9177\n",
      "Epoch 394/400\n",
      "650/650 [==============================] - 14s 22ms/step - loss: -0.9726 - mean_iou: 0.9178 - val_loss: -0.8886 - val_mean_iou: 0.9178\n",
      "Epoch 395/400\n",
      "650/650 [==============================] - 14s 21ms/step - loss: -0.9731 - mean_iou: 0.9179 - val_loss: -0.8842 - val_mean_iou: 0.9179\n",
      "Epoch 396/400\n",
      "650/650 [==============================] - 14s 21ms/step - loss: -0.9728 - mean_iou: 0.9180 - val_loss: -0.8855 - val_mean_iou: 0.9180\n",
      "Epoch 397/400\n",
      "650/650 [==============================] - 14s 22ms/step - loss: -0.9731 - mean_iou: 0.9181 - val_loss: -0.8865 - val_mean_iou: 0.9181\n",
      "Epoch 398/400\n",
      "650/650 [==============================] - 14s 21ms/step - loss: -0.9732 - mean_iou: 0.9182 - val_loss: -0.8850 - val_mean_iou: 0.9182\n",
      "Epoch 399/400\n",
      "650/650 [==============================] - 14s 22ms/step - loss: -0.9722 - mean_iou: 0.9183 - val_loss: -0.8868 - val_mean_iou: 0.9183\n",
      "Epoch 400/400\n",
      "650/650 [==============================] - 14s 21ms/step - loss: -0.9729 - mean_iou: 0.9184 - val_loss: -0.8826 - val_mean_iou: 0.9184\n"
     ]
    },
    {
     "data": {
      "text/plain": [
       "<keras.callbacks.History at 0x7f1c6596a208>"
      ]
     },
     "execution_count": 196,
     "metadata": {},
     "output_type": "execute_result"
    }
   ],
   "source": [
    "model.fit([train_X], [train_Y], batch_size = 32, epochs = 400, validation_data=(valid_X, valid_Y))\n",
    "\n",
    "# model.fit_generator(zip(x,y), \n",
    "#                     validation_data=zip(x_val, y_val), \n",
    "#                     validation_steps=1, \n",
    "#                     steps_per_epoch=len(train_X)/32,\n",
    "#                     epochs=50)"
   ]
  },
  {
   "cell_type": "markdown",
   "metadata": {
    "colab_type": "text",
    "id": "VNVBDiexBqJk"
   },
   "source": [
    "## Predict with Model"
   ]
  },
  {
   "cell_type": "code",
   "execution_count": 225,
   "metadata": {
    "colab": {
     "autoexec": {
      "startup": false,
      "wait_interval": 0
     }
    },
    "colab_type": "code",
    "id": "tabVxHVBkVmk"
   },
   "outputs": [
    {
     "name": "stdout",
     "output_type": "stream",
     "text": [
      "0.1635146\n"
     ]
    }
   ],
   "source": [
    "  # Predict Validation Data\n",
    "pred = model.predict(valid_X)\n",
    "print(np.mean(pred))"
   ]
  },
  {
   "cell_type": "code",
   "execution_count": 198,
   "metadata": {
    "colab": {
     "autoexec": {
      "startup": false,
      "wait_interval": 0
     },
     "base_uri": "https://localhost:8080/",
     "height": 363,
     "output_extras": [
      {
       "item_id": 1
      },
      {
       "item_id": 2
      }
     ]
    },
    "colab_type": "code",
    "executionInfo": {
     "elapsed": 1206,
     "status": "ok",
     "timestamp": 1522469130267,
     "user": {
      "displayName": "Kenny Kang",
      "photoUrl": "https://lh3.googleusercontent.com/a/default-user=s128",
      "userId": "100936701342634082666"
     },
     "user_tz": 420
    },
    "id": "zH3hf2elwo-j",
    "outputId": "2599c1af-b78c-44c1-88df-e93875e2ade0",
    "scrolled": false
   },
   "outputs": [
    {
     "data": {
      "text/plain": [
       "1.0"
      ]
     },
     "execution_count": 198,
     "metadata": {},
     "output_type": "execute_result"
    },
    {
     "data": {
      "image/png": "[encoded data removed]",
      "text/plain": [
       "<Figure size 432x288 with 4 Axes>"
      ]
     },
     "metadata": {},
     "output_type": "display_data"
    }
   ],
   "source": [
    "sample = 7\n",
    "\n",
    "fig, ax = plt.subplots(nrows=2,ncols=2)\n",
    "\n",
    "pred_rounded = np.where(pred[sample,:,:,0] > 0.99, 1, 0)\n",
    "ax[0,0].imshow(valid_X[sample,:,:,0])\n",
    "ax[0,1].imshow(valid_Y[sample,:,:,0])\n",
    "ax[1,0].imshow(pred[sample,:,:,0])\n",
    "ax[1,1].imshow(pred_rounded)\n",
    "np.amax(pred[sample,:,:,0])\n",
    "# pred[sample,:,:,0]\n"
   ]
  },
  {
   "cell_type": "code",
   "execution_count": null,
   "metadata": {
    "collapsed": true
   },
   "outputs": [],
   "source": []
  },
  {
   "cell_type": "code",
   "execution_count": 199,
   "metadata": {
    "collapsed": true
   },
   "outputs": [],
   "source": [
    "def iou_metric(y_true_in, y_pred_in, print_table=False):\n",
    "    labels = label(y_true_in > 0.5)\n",
    "    y_pred = label(y_pred_in > 0.55)\n",
    "    \n",
    "    true_objects = len(np.unique(labels))\n",
    "    pred_objects = len(np.unique(y_pred))\n",
    "\n",
    "    intersection = np.histogram2d(labels.flatten(), y_pred.flatten(), bins=(true_objects, pred_objects))[0]\n",
    "\n",
    "    # Compute areas (needed for finding the union between all objects)\n",
    "    area_true = np.histogram(labels, bins = true_objects)[0]\n",
    "    area_pred = np.histogram(y_pred, bins = pred_objects)[0]\n",
    "    area_true = np.expand_dims(area_true, -1)\n",
    "    area_pred = np.expand_dims(area_pred, 0)\n",
    "\n",
    "    # Compute union\n",
    "    union = area_true + area_pred - intersection\n",
    "\n",
    "    # Exclude background from the analysis\n",
    "    intersection = intersection[1:,1:]\n",
    "    union = union[1:,1:]\n",
    "    union[union == 0] = 1e-9\n",
    "\n",
    "    # Compute the intersection over union\n",
    "    iou = intersection / union\n",
    "\n",
    "    # Precision helper function\n",
    "    def precision_at(threshold, iou):\n",
    "        matches = iou > threshold\n",
    "        true_positives = np.sum(matches, axis=1) == 1   # Correct objects\n",
    "        false_positives = np.sum(matches, axis=0) == 0  # Missed objects\n",
    "        false_negatives = np.sum(matches, axis=1) == 0  # Extra objects\n",
    "        tp, fp, fn = np.sum(true_positives), np.sum(false_positives), np.sum(false_negatives)\n",
    "        return tp, fp, fn\n",
    "\n",
    "    # Loop over IoU thresholds\n",
    "    prec = []\n",
    "    if print_table:\n",
    "        print(\"Thresh\\tTP\\tFP\\tFN\\tPrec.\")\n",
    "    for t in np.arange(0.5, 1.0, 0.05):\n",
    "        tp, fp, fn = precision_at(t, iou)\n",
    "        if (tp + fp + fn) > 0:\n",
    "            p = tp / (tp + fp + fn)\n",
    "        else:\n",
    "            p = 0\n",
    "        if print_table:\n",
    "            print(\"{:1.3f}\\t{}\\t{}\\t{}\\t{:1.3f}\".format(t, tp, fp, fn, p))\n",
    "        prec.append(p)\n",
    "    \n",
    "    if print_table:\n",
    "        print(\"AP\\t-\\t-\\t-\\t{:1.3f}\".format(np.mean(prec)))\n",
    "    return np.mean(prec)\n",
    "\n",
    "def iou_metric_batch(y_true_in, y_pred_in):\n",
    "    batch_size = len(y_true_in)\n",
    "    metric = []\n",
    "    for batch in range(batch_size):\n",
    "        value = iou_metric(y_true_in[batch], y_pred_in[batch])\n",
    "        metric.append(value)\n",
    "#     return np.array(np.mean(metric), dtype=np.float32)\n",
    "    return metric"
   ]
  },
  {
   "cell_type": "code",
   "execution_count": 200,
   "metadata": {},
   "outputs": [
    {
     "data": {
      "text/plain": [
       "0.4069284438691413"
      ]
     },
     "execution_count": 200,
     "metadata": {},
     "output_type": "execute_result"
    }
   ],
   "source": [
    "iou_metric(valid_Y[:,:,:,0], pred[:,:,:,0])"
   ]
  },
  {
   "cell_type": "code",
   "execution_count": 250,
   "metadata": {
    "collapsed": true
   },
   "outputs": [],
   "source": [
    "def apply_watershed(pred):\n",
    "    watershed_pred = []\n",
    "    for i in range(len(pred)):\n",
    "        image = pred[i,:,:,0] > 0.55\n",
    "        \n",
    "        \n",
    "        distance = ndi.distance_transform_edt(image)\n",
    "        local_maxi = peak_local_max(distance, indices=False, footprint=np.ones((2, 2)),\n",
    "                            labels=image)\n",
    "        markers = ndi.label(local_maxi)[0]\n",
    "        labels = watershed(-distance, markers, mask=image)\n",
    "       \n",
    "        watershed_pred.append(labels)\n",
    "        \n",
    "    watershed_pred = np.stack(watershed_pred, axis=0)\n",
    "    return watershed_pred\n",
    "\n",
    "watershed_pred = apply_watershed(pred)"
   ]
  },
  {
   "cell_type": "code",
   "execution_count": 251,
   "metadata": {},
   "outputs": [
    {
     "data": {
      "text/plain": [
       "0.40792463931850315"
      ]
     },
     "execution_count": 251,
     "metadata": {},
     "output_type": "execute_result"
    }
   ],
   "source": [
    "iou_metric(valid_Y[:,:,:,0], watershed_pred)"
   ]
  },
  {
   "cell_type": "code",
   "execution_count": 252,
   "metadata": {},
   "outputs": [
    {
     "name": "stdout",
     "output_type": "stream",
     "text": [
      "1\n"
     ]
    }
   ],
   "source": [
    "print(np.amax(np.where(watershed_pred[0] >= 1, 1 ,0)))"
   ]
  },
  {
   "cell_type": "code",
   "execution_count": 253,
   "metadata": {},
   "outputs": [
    {
     "data": {
      "text/plain": [
       "<matplotlib.image.AxesImage at 0x7f1eba03e978>"
      ]
     },
     "execution_count": 253,
     "metadata": {},
     "output_type": "execute_result"
    },
    {
     "data": {
      "image/png": "[encoded data removed]",
      "text/plain": [
       "<Figure size 432x288 with 1 Axes>"
      ]
     },
     "metadata": {},
     "output_type": "display_data"
    }
   ],
   "source": [
    "plt.imshow(valid_Y[2,:,:,0])"
   ]
  },
  {
   "cell_type": "code",
   "execution_count": 254,
   "metadata": {},
   "outputs": [
    {
     "data": {
      "text/plain": [
       "<matplotlib.image.AxesImage at 0x7f1eba04edd8>"
      ]
     },
     "execution_count": 254,
     "metadata": {},
     "output_type": "execute_result"
    },
    {
     "data": {
      "image/png": "[encoded data removed]",
      "text/plain": [
       "<Figure size 432x288 with 1 Axes>"
      ]
     },
     "metadata": {},
     "output_type": "display_data"
    }
   ],
   "source": [
    "plt.imshow(watershed_pred[2])"
   ]
  },
  {
   "cell_type": "code",
   "execution_count": 255,
   "metadata": {},
   "outputs": [
    {
     "data": {
      "text/plain": [
       "<matplotlib.image.AxesImage at 0x7f1eba0e60b8>"
      ]
     },
     "execution_count": 255,
     "metadata": {},
     "output_type": "execute_result"
    },
    {
     "data": {
      "image/png": "[encoded data removed]",
      "text/plain": [
       "<Figure size 432x288 with 1 Axes>"
      ]
     },
     "metadata": {},
     "output_type": "display_data"
    }
   ],
   "source": [
    "plt.imshow(watershed_pred[0] - np.where(pred[0,:,:,0] > 0.55, 1,0))"
   ]
  },
  {
   "cell_type": "code",
   "execution_count": 209,
   "metadata": {},
   "outputs": [
    {
     "data": {
      "text/plain": [
       "<matplotlib.image.AxesImage at 0x7f1eb9c15ef0>"
      ]
     },
     "execution_count": 209,
     "metadata": {},
     "output_type": "execute_result"
    },
    {
     "data": {
      "image/png": "[encoded data removed]",
      "text/plain": [
       "<Figure size 432x288 with 1 Axes>"
      ]
     },
     "metadata": {},
     "output_type": "display_data"
    },
    {
     "data": {
      "image/png": "[encoded data removed]",
      "text/plain": [
       "<Figure size 432x288 with 1 Axes>"
      ]
     },
     "metadata": {},
     "output_type": "display_data"
    },
    {
     "data": {
      "image/png": "[encoded data removed]",
      "text/plain": [
       "<Figure size 432x288 with 1 Axes>"
      ]
     },
     "metadata": {},
     "output_type": "display_data"
    }
   ],
   "source": [
    "plt.imshow(valid_Y[1,:,:,0])\n",
    "plt.figure()\n",
    "plt.imshow(np.where(pred[1,:,:,0] > 0.55, 1,0))\n",
    "plt.figure()\n",
    "plt.imshow(watershed_pred[1])"
   ]
  },
  {
   "cell_type": "code",
   "execution_count": null,
   "metadata": {
    "collapsed": true
   },
   "outputs": [],
   "source": []
  },
  {
   "cell_type": "markdown",
   "metadata": {
    "colab_type": "text",
    "id": "j_raYhzCriSz"
   },
   "source": [
    "## Methods for Saving/Loading Trained Model"
   ]
  },
  {
   "cell_type": "markdown",
   "metadata": {
    "colab_type": "text",
    "id": "y8_5rHCEro-M"
   },
   "source": [
    "### Save Model"
   ]
  },
  {
   "cell_type": "code",
   "execution_count": 210,
   "metadata": {
    "colab": {
     "autoexec": {
      "startup": false,
      "wait_interval": 0
     },
     "base_uri": "https://localhost:8080/",
     "height": 272,
     "output_extras": [
      {
       "item_id": 8
      }
     ]
    },
    "colab_type": "code",
    "collapsed": true,
    "executionInfo": {
     "elapsed": 10995,
     "status": "ok",
     "timestamp": 1522468842291,
     "user": {
      "displayName": "Kenny Kang",
      "photoUrl": "https://lh3.googleusercontent.com/a/default-user=s128",
      "userId": "100936701342634082666"
     },
     "user_tz": 420
    },
    "id": "wUZyvOoXwtfo",
    "outputId": "9834dd8d-bffd-4d81-e3fb-332e148d203d"
   },
   "outputs": [],
   "source": [
    "#SAVE MODEL\n",
    "\n",
    "model.save('../model_weights/unet_blah.h5')"
   ]
  },
  {
   "cell_type": "markdown",
   "metadata": {
    "colab_type": "text",
    "id": "jtd7roGfrrCD"
   },
   "source": [
    "### Load Model"
   ]
  },
  {
   "cell_type": "code",
   "execution_count": 67,
   "metadata": {
    "colab": {
     "autoexec": {
      "startup": false,
      "wait_interval": 0
     },
     "base_uri": "https://localhost:8080/",
     "height": 68,
     "output_extras": [
      {
       "item_id": 10
      }
     ]
    },
    "colab_type": "code",
    "collapsed": true,
    "executionInfo": {
     "elapsed": 13126,
     "status": "ok",
     "timestamp": 1522481718385,
     "user": {
      "displayName": "Kenny Kang",
      "photoUrl": "https://lh3.googleusercontent.com/a/default-user=s128",
      "userId": "100936701342634082666"
     },
     "user_tz": 420
    },
    "id": "CjQ0Jpl13NHQ",
    "outputId": "677990cd-06e3-4528-ad02-e15750cf19c5"
   },
   "outputs": [],
   "source": [
    "\n",
    "from keras.models import load_model\n",
    "# model = load_model('unet_baseline.h5', custom_objects={'weighted_binary_crossentropy_loss': weighted_binary_crossentropy_loss, 'mean_iou': mean_iou})\n",
    "model = load_model('../model_weights/unet_baseline.h5', custom_objects={'mean_iou': mean_iou})\n",
    "\n"
   ]
  },
  {
   "cell_type": "markdown",
   "metadata": {
    "colab_type": "text",
    "id": "LFAC0n82J8tG"
   },
   "source": [
    "# Use Test Data"
   ]
  },
  {
   "cell_type": "code",
   "execution_count": 257,
   "metadata": {
    "colab": {
     "autoexec": {
      "startup": false,
      "wait_interval": 0
     }
    },
    "colab_type": "code",
    "collapsed": true,
    "id": "jBmOoZcbKVCN",
    "scrolled": true
   },
   "outputs": [],
   "source": [
    "test_images = pickle.load(open('../test_images.p', 'rb'))\n",
    "##test_images2 = pickle.load(open('test_X_baseline2.p', 'rb'))\n",
    "\n",
    "##test_images = np.concatenate([test_images1, test_images2], axis=0) \n",
    "\n",
    "test_sizes = pickle.load(open('../test_sizes.p', 'rb'))\n",
    "test_ids = pickle.load(open('../test_img_names.p', 'rb'))"
   ]
  },
  {
   "cell_type": "code",
   "execution_count": null,
   "metadata": {
    "collapsed": true
   },
   "outputs": [],
   "source": []
  },
  {
   "cell_type": "code",
   "execution_count": 258,
   "metadata": {
    "colab": {
     "autoexec": {
      "startup": false,
      "wait_interval": 0
     },
     "base_uri": "https://localhost:8080/",
     "height": 34,
     "output_extras": [
      {
       "item_id": 1
      }
     ]
    },
    "colab_type": "code",
    "executionInfo": {
     "elapsed": 687,
     "status": "ok",
     "timestamp": 1522469162209,
     "user": {
      "displayName": "Kenny Kang",
      "photoUrl": "https://lh3.googleusercontent.com/a/default-user=s128",
      "userId": "100936701342634082666"
     },
     "user_tz": 420
    },
    "id": "XOxY5P2uyn6F",
    "outputId": "08fa85f2-e1ed-4e4d-f3c3-f08f9a3d0650"
   },
   "outputs": [
    {
     "data": {
      "text/plain": [
       "<keras.engine.training.Model at 0x7f1ec01609b0>"
      ]
     },
     "execution_count": 258,
     "metadata": {},
     "output_type": "execute_result"
    }
   ],
   "source": [
    "model"
   ]
  },
  {
   "cell_type": "code",
   "execution_count": null,
   "metadata": {
    "collapsed": true
   },
   "outputs": [],
   "source": []
  },
  {
   "cell_type": "code",
   "execution_count": 259,
   "metadata": {
    "colab": {
     "autoexec": {
      "startup": false,
      "wait_interval": 0
     }
    },
    "colab_type": "code",
    "collapsed": true,
    "id": "aAcnUEpqKDPB"
   },
   "outputs": [],
   "source": [
    "test_images = test_images - IMAGE_MEAN\n",
    "pred = model.predict(test_images)\n",
    "watershed_pred = apply_watershed(pred)"
   ]
  },
  {
   "cell_type": "code",
   "execution_count": 260,
   "metadata": {},
   "outputs": [
    {
     "name": "stderr",
     "output_type": "stream",
     "text": [
      "/home/kenkang/anaconda3/envs/deeplearning/lib/python3.6/site-packages/ipykernel/__main__.py:3: DeprecationWarning: `imresize` is deprecated!\n",
      "`imresize` is deprecated in SciPy 1.0.0, and will be removed in 1.2.0.\n",
      "Use ``skimage.transform.resize`` instead.\n",
      "  app.launch_new_instance()\n"
     ]
    }
   ],
   "source": [
    "preds = []\n",
    "for i in range(len(test_sizes)):\n",
    "    preds.append(imresize(watershed_pred[i],test_sizes[i][:2]))"
   ]
  },
  {
   "cell_type": "code",
   "execution_count": 261,
   "metadata": {},
   "outputs": [
    {
     "data": {
      "text/plain": [
       "<matplotlib.image.AxesImage at 0x7f1eba16df28>"
      ]
     },
     "execution_count": 261,
     "metadata": {},
     "output_type": "execute_result"
    },
    {
     "data": {
      "image/png": "[encoded data removed]",
      "text/plain": [
       "<Figure size 432x288 with 1 Axes>"
      ]
     },
     "metadata": {},
     "output_type": "display_data"
    }
   ],
   "source": [
    "plt.imshow(preds[0][:,:])"
   ]
  },
  {
   "cell_type": "code",
   "execution_count": 262,
   "metadata": {
    "colab": {
     "autoexec": {
      "startup": false,
      "wait_interval": 0
     }
    },
    "colab_type": "code",
    "collapsed": true,
    "id": "AQIlwLQrKbzV"
   },
   "outputs": [],
   "source": [
    "import pandas as pd"
   ]
  },
  {
   "cell_type": "code",
   "execution_count": 263,
   "metadata": {
    "colab": {
     "autoexec": {
      "startup": false,
      "wait_interval": 0
     }
    },
    "colab_type": "code",
    "collapsed": true,
    "id": "hvE0QLe6KgLQ"
   },
   "outputs": [],
   "source": [
    "\n",
    "import re\n",
    "\n",
    "\n",
    "def regex(txt):\n",
    "\n",
    "  re1 = '(?:[a-z0-9][a-z]*[0-9]+[a-z0-9]*)/'\n",
    "\n",
    "  rg = re.compile(re1)\n",
    "  m = rg.search(txt)\n",
    "  if m:\n",
    "      alphanum1=m.group(0)\n",
    "  return alphanum1[0:-1]\n"
   ]
  },
  {
   "cell_type": "code",
   "execution_count": 264,
   "metadata": {
    "colab": {
     "autoexec": {
      "startup": false,
      "wait_interval": 0
     },
     "base_uri": "https://localhost:8080/",
     "height": 456,
     "output_extras": [
      {
       "item_id": 1
      },
      {
       "item_id": 2
      },
      {
       "item_id": 3
      }
     ]
    },
    "colab_type": "code",
    "executionInfo": {
     "elapsed": 771,
     "status": "ok",
     "timestamp": 1522469183514,
     "user": {
      "displayName": "Kenny Kang",
      "photoUrl": "https://lh3.googleusercontent.com/a/default-user=s128",
      "userId": "100936701342634082666"
     },
     "user_tz": 420
    },
    "id": "j4kbs8MHVvIP",
    "outputId": "e71404cc-b93b-4c94-83f6-8566d9467697",
    "scrolled": true
   },
   "outputs": [
    {
     "name": "stderr",
     "output_type": "stream",
     "text": [
      "/home/kenkang/anaconda3/envs/deeplearning/lib/python3.6/site-packages/ipykernel/__main__.py:4: DeprecationWarning: `imresize` is deprecated!\n",
      "`imresize` is deprecated in SciPy 1.0.0, and will be removed in 1.2.0.\n",
      "Use ``skimage.transform.resize`` instead.\n",
      "Clipping input data to the valid range for imshow with RGB data ([0..1] for floats or [0..255] for integers).\n"
     ]
    },
    {
     "name": "stdout",
     "output_type": "stream",
     "text": [
      "(256, 256, 3)\n",
      "(414, 278)\n"
     ]
    },
    {
     "data": {
      "image/png": "[encoded data removed]",
      "text/plain": [
       "<Figure size 432x288 with 6 Axes>"
      ]
     },
     "metadata": {},
     "output_type": "display_data"
    }
   ],
   "source": [
    "sample = 2\n",
    "shape = test_sizes[sample]\n",
    "shape = (shape[0],shape[1])\n",
    "mask = imresize(pred[sample,:,:,0], shape) / 255\n",
    "mask2 = label(np.where(mask > 0.9, 1, 0),connectivity=2)\n",
    "\n",
    "\n",
    "\n",
    "fig, ax = plt.subplots(nrows=2,ncols=3)\n",
    "\n",
    "ax[0,0].imshow(test_images[sample])\n",
    "ax[0,1].imshow(mask)\n",
    "ax[0,2].imshow(mask2)\n",
    "\n",
    "print(test_images[sample].shape)\n",
    "print(mask.shape)"
   ]
  },
  {
   "cell_type": "code",
   "execution_count": 265,
   "metadata": {},
   "outputs": [
    {
     "ename": "TypeError",
     "evalue": "'function' object is not subscriptable",
     "output_type": "error",
     "traceback": [
      "\u001b[0;31m---------------------------------------------------------------------------\u001b[0m",
      "\u001b[0;31mTypeError\u001b[0m                                 Traceback (most recent call last)",
      "\u001b[0;32m<ipython-input-265-14117578cbab>\u001b[0m in \u001b[0;36m<module>\u001b[0;34m()\u001b[0m\n\u001b[1;32m      1\u001b[0m \u001b[0;31m#Separate Masks\u001b[0m\u001b[0;34m\u001b[0m\u001b[0;34m\u001b[0m\u001b[0m\n\u001b[1;32m      2\u001b[0m \u001b[0;32mfrom\u001b[0m \u001b[0mscipy\u001b[0m \u001b[0;32mimport\u001b[0m \u001b[0mndimage\u001b[0m\u001b[0;34m\u001b[0m\u001b[0m\n\u001b[0;32m----> 3\u001b[0;31m \u001b[0mlabels\u001b[0m\u001b[0;34m,\u001b[0m \u001b[0mnlabels\u001b[0m \u001b[0;34m=\u001b[0m \u001b[0mndimage\u001b[0m\u001b[0;34m.\u001b[0m\u001b[0mlabel\u001b[0m\u001b[0;34m(\u001b[0m\u001b[0mwatershed\u001b[0m\u001b[0;34m[\u001b[0m\u001b[0;36m0\u001b[0m\u001b[0;34m]\u001b[0m\u001b[0;34m)\u001b[0m\u001b[0;34m\u001b[0m\u001b[0m\n\u001b[0m\u001b[1;32m      4\u001b[0m \u001b[0;34m\u001b[0m\u001b[0m\n\u001b[1;32m      5\u001b[0m \u001b[0mlabel_arrays\u001b[0m \u001b[0;34m=\u001b[0m \u001b[0;34m[\u001b[0m\u001b[0;34m]\u001b[0m\u001b[0;34m\u001b[0m\u001b[0m\n",
      "\u001b[0;31mTypeError\u001b[0m: 'function' object is not subscriptable"
     ]
    }
   ],
   "source": [
    "#Separate Masks\n",
    "from scipy import ndimage\n",
    "labels, nlabels = ndimage.label(watershed[0])\n",
    "\n",
    "label_arrays = []\n",
    "for label_num in range(1, nlabels+1):\n",
    "    label_mask = np.where(labels == label_num, 1, 0)\n",
    "    label_arrays.append(label_mask)\n",
    "\n",
    "print('There are {} separate components / objects detected.'.format(nlabels))"
   ]
  },
  {
   "cell_type": "code",
   "execution_count": 266,
   "metadata": {
    "collapsed": true
   },
   "outputs": [],
   "source": [
    "def rle_encoding(x):\n",
    "    '''\n",
    "    x: numpy array of shape (height, width), 1 - mask, 0 - background\n",
    "    Returns run length as list\n",
    "    '''\n",
    "    dots = np.where(x.T.flatten()==1)[0] # .T sets Fortran order down-then-right\n",
    "    run_lengths = []\n",
    "    prev = -2\n",
    "    for b in dots:\n",
    "        if (b>prev+1): run_lengths.extend((b+1, 0))\n",
    "        run_lengths[-1] += 1\n",
    "        prev = b\n",
    "    return run_lengths\n",
    "\n",
    "def prob_to_rles(x, cut_off = 0.5):\n",
    "    lab_img = label(x>cut_off)\n",
    "    if lab_img.max()<1:\n",
    "        lab_img[0,0] = 1 # ensure at least one prediction per image\n",
    "    for i in range(1, lab_img.max()+1):\n",
    "        yield rle_encoding(lab_img==i)"
   ]
  },
  {
   "cell_type": "code",
   "execution_count": null,
   "metadata": {
    "collapsed": true
   },
   "outputs": [],
   "source": []
  },
  {
   "cell_type": "code",
   "execution_count": 267,
   "metadata": {
    "collapsed": true
   },
   "outputs": [],
   "source": [
    "new_test_ids = []\n",
    "rles = []\n",
    "count = 0\n",
    "for n, id_ in enumerate(test_ids):\n",
    "    rle = list(prob_to_rles(preds[n]))\n",
    "    \n",
    "    rles.extend(rle)\n",
    "    new_test_ids.extend([id_[:-4] for i in range(len(rle))])"
   ]
  },
  {
   "cell_type": "code",
   "execution_count": 268,
   "metadata": {
    "collapsed": true
   },
   "outputs": [],
   "source": [
    "\n",
    "# Create submission DataFrame\n",
    "sub = pd.DataFrame()\n",
    "sub['ImageId'] = new_test_ids\n",
    "sub['EncodedPixels'] = pd.Series(rles).apply(lambda x: ' '.join(str(y) for y in x))\n",
    "sub[['ImageId', 'EncodedPixels']].to_csv('baseline_submission.csv', index=False)"
   ]
  },
  {
   "cell_type": "code",
   "execution_count": 269,
   "metadata": {
    "colab": {
     "autoexec": {
      "startup": false,
      "wait_interval": 0
     }
    },
    "colab_type": "code",
    "collapsed": true,
    "id": "PnDyiJA503G4",
    "scrolled": true
   },
   "outputs": [],
   "source": [
    "sample = pd.read_csv(\"stage2_sample_submission_final.csv\")"
   ]
  },
  {
   "cell_type": "code",
   "execution_count": 270,
   "metadata": {
    "collapsed": true
   },
   "outputs": [],
   "source": [
    "solution = sorted(zip(new_test_ids, rles))\n",
    "new_test_ids = []\n",
    "rles = []\n",
    "for x,y in solution:\n",
    "    new_test_ids.append(x)\n",
    "\n",
    "    rles.append(y)"
   ]
  },
  {
   "cell_type": "code",
   "execution_count": null,
   "metadata": {
    "collapsed": true
   },
   "outputs": [],
   "source": []
  },
  {
   "cell_type": "code",
   "execution_count": 271,
   "metadata": {
    "collapsed": true
   },
   "outputs": [],
   "source": [
    "sub = pd.DataFrame()\n",
    "sub['ImageId'] = new_test_ids\n",
    "sub['EncodedPixels'] = pd.Series(rles).apply(lambda x: ' '.join(str(y) for y in x))\n",
    "sub.to_csv('baseline_submission.csv', index=False)"
   ]
  },
  {
   "cell_type": "code",
   "execution_count": 272,
   "metadata": {},
   "outputs": [
    {
     "data": {
      "text/plain": [
       "3019"
      ]
     },
     "execution_count": 272,
     "metadata": {},
     "output_type": "execute_result"
    }
   ],
   "source": [
    "len(sub.ImageId.unique())"
   ]
  },
  {
   "cell_type": "code",
   "execution_count": null,
   "metadata": {
    "collapsed": true
   },
   "outputs": [],
   "source": []
  }
 ],
 "metadata": {
  "accelerator": "GPU",
  "colab": {
   "collapsed_sections": [],
   "default_view": {},
   "name": "kaggle-nuclei.ipynb",
   "provenance": [],
   "toc_visible": true,
   "version": "0.3.2",
   "views": {}
  },
  "kernelspec": {
   "display_name": "Python [conda env:anaconda3]",
   "language": "python",
   "name": "conda-env-anaconda3-py"
  },
  "language_info": {
   "codemirror_mode": {
    "name": "ipython",
    "version": 3
   },
   "file_extension": ".py",
   "mimetype": "text/x-python",
   "name": "python",
   "nbconvert_exporter": "python",
   "pygments_lexer": "ipython3",
   "version": "3.6.3"
  }
 },
 "nbformat": 4,
 "nbformat_minor": 1
}
