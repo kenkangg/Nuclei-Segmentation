{
 "cells": [
  {
   "cell_type": "code",
   "execution_count": 1,
   "metadata": {},
   "outputs": [],
   "source": [
    "from scipy import ndimage"
   ]
  },
  {
   "cell_type": "code",
   "execution_count": 2,
   "metadata": {},
   "outputs": [],
   "source": [
    "from skimage.measure import find_contours"
   ]
  },
  {
   "cell_type": "code",
   "execution_count": 3,
   "metadata": {},
   "outputs": [],
   "source": [
    "from os import listdir, walk\n",
    "import os\n",
    "import matplotlib.pyplot as plt\n",
    "import numpy as np\n",
    "from imageio import imread\n",
    "\n",
    "from skimage.transform import resize\n",
    "\n",
    "import matplotlib.pyplot as plt\n",
    "import pickle\n",
    "\n",
    "%matplotlib inline\n"
   ]
  },
  {
   "cell_type": "code",
   "execution_count": 4,
   "metadata": {},
   "outputs": [],
   "source": [
    "import time"
   ]
  },
  {
   "cell_type": "code",
   "execution_count": null,
   "metadata": {},
   "outputs": [],
   "source": []
  },
  {
   "cell_type": "markdown",
   "metadata": {},
   "source": [
    "## Preprocess Images"
   ]
  },
  {
   "cell_type": "code",
   "execution_count": null,
   "metadata": {},
   "outputs": [],
   "source": []
  },
  {
   "cell_type": "code",
   "execution_count": 7,
   "metadata": {
    "scrolled": true
   },
   "outputs": [],
   "source": [
    "def get_train_images(images):\n",
    "    return uniform_reshape(images, (256,256,3))\n",
    " "
   ]
  },
  {
   "cell_type": "code",
   "execution_count": 8,
   "metadata": {},
   "outputs": [],
   "source": [
    "def get_train_labels(submasks):\n",
    "    masks = {}\n",
    "    for key in submasks.keys():\n",
    "        masks[key] = combine_output_mask(submasks[key])\n",
    "    return uniform_reshape(masks, (256,256))\n",
    "\n",
    "def get_test_masks(submasks):\n",
    "    masks = {}\n",
    "    for key in submasks.keys():\n",
    "        masks[key] = combine_test_mask(submasks[key])\n",
    "    return uniform_reshape(masks, (256,256))\n",
    "        "
   ]
  },
  {
   "cell_type": "code",
   "execution_count": 9,
   "metadata": {},
   "outputs": [],
   "source": [
    "def combine_output_mask(masks):\n",
    "    \"\"\" Combines multiple masks into a single mask \n",
    "    \n",
    "    Arguments:\n",
    "        masks: np.array of masks for given image\n",
    "    \n",
    "    Return:\n",
    "        mask: single mask of joined submasks\n",
    "    \"\"\"\n",
    "    return np.amax(masks, axis=0)"
   ]
  },
  {
   "cell_type": "code",
   "execution_count": 10,
   "metadata": {},
   "outputs": [],
   "source": [
    "def combine_test_mask(masks):\n",
    "    \"\"\" Combines multiple masks into a single mask with each mask having a unique value\n",
    "    \n",
    "    Arguments:\n",
    "        masks: np.array of masks for given image\n",
    "    \n",
    "    Return:\n",
    "        mask: single mask of joined submasks\n",
    "    \"\"\"\n",
    "    mask = np.zeros((masks[0].shape))\n",
    "    for i in range(len(masks)):\n",
    "        mask = np.add(mask, (masks[i] / 255) * (i + 1))\n",
    "        \n",
    "    return mask\n"
   ]
  },
  {
   "cell_type": "code",
   "execution_count": 11,
   "metadata": {},
   "outputs": [],
   "source": [
    "def create_train_data(images, shape):\n",
    "    \"\"\" Return Numpy Array of Images\n",
    "    \n",
    "        Arguments:\n",
    "            images: list of images(np.array)\n",
    "            shape: tuple of single image sample size\n",
    "            \n",
    "        return:\n",
    "            train_data: np.array of resized images\n",
    "    \"\"\"\n",
    "    train = []\n",
    "    for img in images:\n",
    "        reshaped = imresize(img, shape)\n",
    "        data.append(reshaped)\n",
    "\n",
    "    train_data = np.stack(train, axis=0)\n",
    "    return data"
   ]
  },
  {
   "cell_type": "code",
   "execution_count": 12,
   "metadata": {},
   "outputs": [],
   "source": [
    "def create_train_labels(images):\n",
    "    label_data = {}\n",
    "    weight_map = {}\n",
    "    count = 0\n",
    "    for key in images:\n",
    "        if count % 50 == 0:\n",
    "             print(count)\n",
    "            \n",
    "        count+= 1\n",
    "        final_mask = combine_mask(key, masks[key])\n",
    "        label_data[key] = final_mask\n",
    "    return final_mask"
   ]
  },
  {
   "cell_type": "code",
   "execution_count": 13,
   "metadata": {},
   "outputs": [],
   "source": [
    "def uniform_reshape(images, shape, rgb=True):\n",
    "\n",
    "    \"\"\" Reshape data from dictionary of matrices to a single multidimensional numpy array \n",
    "\n",
    "    Arguments:\n",
    "    data = Dictionary of numpy arrays representing an image.\n",
    "    shape = desired shape of output (h,w,c)\n",
    "\n",
    "    Return:\n",
    "    numpy array of shape (num_images, h, w, c)\n",
    "    \"\"\"\n",
    "    data = []\n",
    "    count = 0\n",
    "    for key in images.keys():\n",
    "        if count % 500 == 0:\n",
    "            print(count)\n",
    "        count += 1    \n",
    "            \n",
    "        if rgb:\n",
    "            image = images[key]\n",
    "        else:\n",
    "            image = images[key]\n",
    "        reshaped = resize(image, shape)\n",
    "        data.append(reshaped)\n",
    "        \n",
    "\n",
    "    data = np.stack(data, axis=0)\n",
    "    return data\n",
    "\n"
   ]
  },
  {
   "cell_type": "code",
   "execution_count": 14,
   "metadata": {},
   "outputs": [],
   "source": [
    "def get_image_ordering(images):\n",
    "    ordering = []\n",
    "    for key in images.keys():\n",
    "        ordering.append(key)\n",
    "    return ordering"
   ]
  },
  {
   "cell_type": "code",
   "execution_count": 15,
   "metadata": {},
   "outputs": [],
   "source": [
    "def preserve_original_sizes(images):\n",
    "    original_image_sizes = {}\n",
    "    for key in images.keys():\n",
    "        w,h,c = images[key].shape\n",
    "        original_image_sizes[key] = (w,h,3)\n",
    "    return original_image_sizes\n",
    "\n",
    "# original_image_sizes = preserve_original_sizes(train_images)"
   ]
  },
  {
   "cell_type": "markdown",
   "metadata": {},
   "source": [
    "# Main Run"
   ]
  },
  {
   "cell_type": "code",
   "execution_count": 22,
   "metadata": {},
   "outputs": [],
   "source": [
    "images = pickle.load(open('../raw_data/raw_images.p', 'rb'))\n",
    "submasks = pickle.load(open('../raw_data/raw_masks.p', 'rb'))"
   ]
  },
  {
   "cell_type": "code",
   "execution_count": 45,
   "metadata": {},
   "outputs": [
    {
     "name": "stdout",
     "output_type": "stream",
     "text": [
      "0\n"
     ]
    },
    {
     "name": "stderr",
     "output_type": "stream",
     "text": [
      "/home/kenkang/anaconda3/envs/deeplearning/lib/python3.6/site-packages/skimage/transform/_warps.py:84: UserWarning: The default mode, 'constant', will be changed to 'reflect' in skimage 0.15.\n",
      "  warn(\"The default mode, 'constant', will be changed to 'reflect' in \"\n"
     ]
    },
    {
     "name": "stdout",
     "output_type": "stream",
     "text": [
      "500\n",
      "0\n",
      "500\n"
     ]
    }
   ],
   "source": [
    "#Read Image and Mask Paths\n",
    "train_X =get_train_images(images)\n",
    "train_Y = get_train_labels(submasks)"
   ]
  },
  {
   "cell_type": "code",
   "execution_count": 63,
   "metadata": {},
   "outputs": [
    {
     "name": "stdout",
     "output_type": "stream",
     "text": [
      "0\n"
     ]
    },
    {
     "name": "stderr",
     "output_type": "stream",
     "text": [
      "/home/kenkang/anaconda3/envs/deeplearning/lib/python3.6/site-packages/skimage/transform/_warps.py:84: UserWarning: The default mode, 'constant', will be changed to 'reflect' in skimage 0.15.\n",
      "  warn(\"The default mode, 'constant', will be changed to 'reflect' in \"\n"
     ]
    },
    {
     "name": "stdout",
     "output_type": "stream",
     "text": [
      "500\n"
     ]
    }
   ],
   "source": [
    "train_Y_layer = get_test_masks(submasks)"
   ]
  },
  {
   "cell_type": "code",
   "execution_count": 66,
   "metadata": {},
   "outputs": [
    {
     "data": {
      "text/plain": [
       "13.0"
      ]
     },
     "execution_count": 66,
     "metadata": {},
     "output_type": "execute_result"
    },
    {
     "data": {
      "image/png": "[encoded data removed]",
      "text/plain": [
       "<Figure size 432x288 with 1 Axes>"
      ]
     },
     "metadata": {},
     "output_type": "display_data"
    }
   ],
   "source": [
    "plt.imshow(train_Y_layer[20])\n",
    "np.amax(train_Y_layer[20][10])"
   ]
  },
  {
   "cell_type": "code",
   "execution_count": 67,
   "metadata": {},
   "outputs": [],
   "source": [
    "pickle.dump(train_Y_layer, open('../baseline_data/train_Y_layer.p', 'wb'))"
   ]
  },
  {
   "cell_type": "code",
   "execution_count": null,
   "metadata": {},
   "outputs": [],
   "source": []
  },
  {
   "cell_type": "code",
   "execution_count": 5,
   "metadata": {},
   "outputs": [],
   "source": [
    "test_images = pickle.load(open('../raw_data/raw_test_images.p', 'rb'))"
   ]
  },
  {
   "cell_type": "code",
   "execution_count": 17,
   "metadata": {},
   "outputs": [
    {
     "name": "stdout",
     "output_type": "stream",
     "text": [
      "0\n"
     ]
    },
    {
     "name": "stderr",
     "output_type": "stream",
     "text": [
      "/home/kenkang/anaconda3/envs/deeplearning/lib/python3.6/site-packages/skimage/transform/_warps.py:105: UserWarning: The default mode, 'constant', will be changed to 'reflect' in skimage 0.15.\n",
      "  warn(\"The default mode, 'constant', will be changed to 'reflect' in \"\n",
      "/home/kenkang/anaconda3/envs/deeplearning/lib/python3.6/site-packages/skimage/transform/_warps.py:110: UserWarning: Anti-aliasing will be enabled by default in skimage 0.15 to avoid aliasing artifacts when down-sampling images.\n",
      "  warn(\"Anti-aliasing will be enabled by default in skimage 0.15 to \"\n"
     ]
    },
    {
     "name": "stdout",
     "output_type": "stream",
     "text": [
      "500\n",
      "1000\n",
      "1500\n",
      "2000\n",
      "2500\n",
      "3000\n"
     ]
    }
   ],
   "source": [
    "# Resize Test Images\n",
    "test_X = get_train_images(test_images)"
   ]
  },
  {
   "cell_type": "code",
   "execution_count": 18,
   "metadata": {},
   "outputs": [
    {
     "data": {
      "text/plain": [
       "(3019, 256, 256, 3)"
      ]
     },
     "execution_count": 18,
     "metadata": {},
     "output_type": "execute_result"
    }
   ],
   "source": [
    "test_X.shape"
   ]
  },
  {
   "cell_type": "code",
   "execution_count": 21,
   "metadata": {},
   "outputs": [],
   "source": [
    "pickle.dump(test_X, open('../test_X_baseline.p', 'wb'), protocol=4)"
   ]
  },
  {
   "cell_type": "code",
   "execution_count": null,
   "metadata": {},
   "outputs": [],
   "source": []
  },
  {
   "cell_type": "code",
   "execution_count": null,
   "metadata": {},
   "outputs": [],
   "source": []
  },
  {
   "cell_type": "markdown",
   "metadata": {},
   "source": [
    "## Save data in Pickle File\n",
    "Uploading to and reading directly from Google Cloud Storage is slow. Pickle file allows for quick access to data"
   ]
  },
  {
   "cell_type": "code",
   "execution_count": 17,
   "metadata": {},
   "outputs": [
    {
     "ename": "NameError",
     "evalue": "name 'train_X' is not defined",
     "output_type": "error",
     "traceback": [
      "\u001b[0;31m---------------------------------------------------------------------------\u001b[0m",
      "\u001b[0;31mNameError\u001b[0m                                 Traceback (most recent call last)",
      "\u001b[0;32m<ipython-input-17-f26522d49c96>\u001b[0m in \u001b[0;36m<module>\u001b[0;34m()\u001b[0m\n\u001b[0;32m----> 1\u001b[0;31m \u001b[0mpickle\u001b[0m\u001b[0;34m.\u001b[0m\u001b[0mdump\u001b[0m\u001b[0;34m(\u001b[0m\u001b[0mtrain_X\u001b[0m\u001b[0;34m,\u001b[0m \u001b[0mopen\u001b[0m\u001b[0;34m(\u001b[0m\u001b[0;34m'train_X_baseline.p'\u001b[0m\u001b[0;34m,\u001b[0m \u001b[0;34m'wb'\u001b[0m\u001b[0;34m)\u001b[0m\u001b[0;34m)\u001b[0m\u001b[0;34m\u001b[0m\u001b[0m\n\u001b[0m\u001b[1;32m      2\u001b[0m \u001b[0mpickle\u001b[0m\u001b[0;34m.\u001b[0m\u001b[0mdump\u001b[0m\u001b[0;34m(\u001b[0m\u001b[0mtrain_Y\u001b[0m\u001b[0;34m,\u001b[0m \u001b[0mopen\u001b[0m\u001b[0;34m(\u001b[0m\u001b[0;34m'train_Y_baseline.p'\u001b[0m\u001b[0;34m,\u001b[0m \u001b[0;34m'wb'\u001b[0m\u001b[0;34m)\u001b[0m\u001b[0;34m)\u001b[0m\u001b[0;34m\u001b[0m\u001b[0m\n\u001b[1;32m      3\u001b[0m \u001b[0mpickle\u001b[0m\u001b[0;34m.\u001b[0m\u001b[0mdump\u001b[0m\u001b[0;34m(\u001b[0m\u001b[0mtest_X\u001b[0m\u001b[0;34m,\u001b[0m \u001b[0mopen\u001b[0m\u001b[0;34m(\u001b[0m\u001b[0;34m'test_X_baseline.p'\u001b[0m\u001b[0;34m,\u001b[0m \u001b[0;34m'wb'\u001b[0m\u001b[0;34m)\u001b[0m\u001b[0;34m)\u001b[0m\u001b[0;34m\u001b[0m\u001b[0m\n",
      "\u001b[0;31mNameError\u001b[0m: name 'train_X' is not defined"
     ]
    }
   ],
   "source": [
    "pickle.dump(train_X, open('train_X_baseline.p', 'wb'))\n",
    "pickle.dump(train_Y, open('train_Y_baseline.p', 'wb'))"
   ]
  },
  {
   "cell_type": "code",
   "execution_count": 16,
   "metadata": {},
   "outputs": [
    {
     "data": {
      "text/plain": [
       "numpy.ndarray"
      ]
     },
     "execution_count": 16,
     "metadata": {},
     "output_type": "execute_result"
    }
   ],
   "source": [
    "type(test_X)"
   ]
  },
  {
   "cell_type": "code",
   "execution_count": 17,
   "metadata": {},
   "outputs": [],
   "source": [
    "pickle.dump(test_X[:1500], open('test_X_baseline.p', 'wb'))"
   ]
  },
  {
   "cell_type": "code",
   "execution_count": 18,
   "metadata": {},
   "outputs": [],
   "source": [
    "pickle.dump(test_X[1500:], open('test_X_baseline2.p', 'wb'))"
   ]
  },
  {
   "cell_type": "code",
   "execution_count": null,
   "metadata": {},
   "outputs": [],
   "source": []
  },
  {
   "cell_type": "code",
   "execution_count": null,
   "metadata": {},
   "outputs": [],
   "source": []
  },
  {
   "cell_type": "code",
   "execution_count": null,
   "metadata": {},
   "outputs": [],
   "source": []
  },
  {
   "cell_type": "code",
   "execution_count": null,
   "metadata": {},
   "outputs": [],
   "source": [
    "pickle.dump(num_masks, open('num_masks.p', 'wb'))"
   ]
  },
  {
   "cell_type": "code",
   "execution_count": null,
   "metadata": {},
   "outputs": [],
   "source": [
    "#Contoured\n",
    "pickle.dump(contoured, open('cnm_mask_labels.p', 'wb'))"
   ]
  },
  {
   "cell_type": "code",
   "execution_count": null,
   "metadata": {},
   "outputs": [],
   "source": [
    "pickle.dump(contour_Y, open('cnm_contour_labels.p', 'wb'))"
   ]
  },
  {
   "cell_type": "code",
   "execution_count": null,
   "metadata": {},
   "outputs": [],
   "source": [
    "def read_test_images(path):\n",
    "    images = []\n",
    "\n",
    "    for root,dirs,files in os.walk(path):\n",
    "        if 'images' in dirs:\n",
    "            image_path = ''\n",
    "            for image in listdir(root + '/images'):\n",
    "                image_path = root + '/images/%s' % image\n",
    "                images.append(image_path)\n",
    "    return images\n",
    "\n",
    "test_images = read_test_images(\"../stage1_test\")"
   ]
  },
  {
   "cell_type": "code",
   "execution_count": null,
   "metadata": {},
   "outputs": [],
   "source": [
    "test_image_data = create_train_data(test_images)"
   ]
  },
  {
   "cell_type": "code",
   "execution_count": null,
   "metadata": {},
   "outputs": [],
   "source": [
    "test_X = uniform_reshape(test_image_data, (1,256,256,3))\n"
   ]
  },
  {
   "cell_type": "code",
   "execution_count": null,
   "metadata": {
    "scrolled": true
   },
   "outputs": [],
   "source": [
    "test_ordering = get_image_ordering(test_image_data)\n",
    "test_sizes = preserve_original_sizes(test_image_data)"
   ]
  },
  {
   "cell_type": "code",
   "execution_count": null,
   "metadata": {},
   "outputs": [],
   "source": [
    "pickle.dump(test_X, open('test_images.p', 'wb'))\n",
    "pickle.dump(test_sizes, open('test_sizes.p', 'wb'))\n",
    "pickle.dump(test_ordering, open('test_ordering.p', 'wb'))\n"
   ]
  },
  {
   "cell_type": "code",
   "execution_count": null,
   "metadata": {},
   "outputs": [],
   "source": [
    "pickle.dump(train_Y, open('weight_map.p', 'wb'))\n"
   ]
  },
  {
   "cell_type": "code",
   "execution_count": null,
   "metadata": {},
   "outputs": [],
   "source": [
    "plt.imshow(train_Y[652,:,:,0])"
   ]
  },
  {
   "cell_type": "code",
   "execution_count": null,
   "metadata": {},
   "outputs": [],
   "source": [
    "test_ordering"
   ]
  },
  {
   "cell_type": "code",
   "execution_count": null,
   "metadata": {},
   "outputs": [],
   "source": [
    "train_Y"
   ]
  },
  {
   "cell_type": "code",
   "execution_count": null,
   "metadata": {},
   "outputs": [],
   "source": [
    "contour_map = np.zeros(train_Y[0,:,:,0].shape)\n",
    "print(contour_map.shape)\n",
    "for contour in find_contours(train_Y[0,:,:,0], 100, fully_connected='low' ,positive_orientation='high'):\n",
    "    for coord in contour:\n",
    "        contour_map[int(round(coord[0])),int(round(coord[1]))] = 1\n",
    "plt.figure()\n",
    "plt.imshow(train_Y[0,:,:,0])\n",
    "plt.figure()\n",
    "plt.imshow(contour_map)"
   ]
  },
  {
   "cell_type": "code",
   "execution_count": null,
   "metadata": {},
   "outputs": [],
   "source": [
    "\n",
    "\n",
    "sample_image = images[2]\n",
    "sample_mask = masks[sample_image]\n",
    "\n",
    "sample = combine_mask_weighted(sample_image, sample_mask)\n",
    "plt.figure()\n",
    "plt.imshow(sample)\n",
    "# [imreadx for x in sample_mask]"
   ]
  },
  {
   "cell_type": "code",
   "execution_count": null,
   "metadata": {},
   "outputs": [],
   "source": [
    "plt.figure()\n",
    "# plt.imshow(sample_image[0,:,:,0])\n",
    "plt.figure()\n",
    "plt.imshow(sample)\n",
    "# plt.imshow(imread(sample_image))"
   ]
  },
  {
   "cell_type": "code",
   "execution_count": null,
   "metadata": {},
   "outputs": [],
   "source": []
  }
 ],
 "metadata": {
  "kernelspec": {
   "display_name": "Python [conda env:deeplearning]",
   "language": "python",
   "name": "conda-env-deeplearning-py"
  },
  "language_info": {
   "codemirror_mode": {
    "name": "ipython",
    "version": 3
   },
   "file_extension": ".py",
   "mimetype": "text/x-python",
   "name": "python",
   "nbconvert_exporter": "python",
   "pygments_lexer": "ipython3",
   "version": "3.6.5"
  }
 },
 "nbformat": 4,
 "nbformat_minor": 2
}
